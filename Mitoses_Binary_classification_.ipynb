{
  "nbformat": 4,
  "nbformat_minor": 0,
  "metadata": {
    "accelerator": "GPU",
    "colab": {
      "name": "Nov_16_Mitoses_Binary_classification .ipynb",
      "provenance": [],
      "collapsed_sections": [],
      "machine_shape": "hm",
      "include_colab_link": true
    },
    "kernelspec": {
      "display_name": "Python 3",
      "name": "python3"
    },
    "language_info": {
      "name": "python"
    }
  },
  "cells": [
    {
      "cell_type": "markdown",
      "metadata": {
        "id": "view-in-github",
        "colab_type": "text"
      },
      "source": [
        "<a href=\"https://colab.research.google.com/github/asamiei/mitoses_detection_/blob/main/Mitoses_Binary_classification_.ipynb\" target=\"_parent\"><img src=\"https://colab.research.google.com/assets/colab-badge.svg\" alt=\"Open In Colab\"/></a>"
      ]
    },
    {
      "cell_type": "markdown",
      "metadata": {
        "id": "j5HDgq7KY4QI"
      },
      "source": [
        "# Takes in a 40 x 40 image (RGB), and determines if it is mitosis/dividing cell (=1) or normal non-dividing cell (=0) \n",
        "# The cell should be at the center, with a radius of ~30 pixels"
      ]
    },
    {
      "cell_type": "code",
      "metadata": {
        "colab": {
          "base_uri": "https://localhost:8080/"
        },
        "id": "Fm9Q3j9FA0Sh",
        "outputId": "be6527c8-c5c5-4107-d6c3-94fb4049569a"
      },
      "source": [
        "from google.colab import drive\n",
        "drive.mount('/content/gdrive')"
      ],
      "execution_count": 1,
      "outputs": [
        {
          "output_type": "stream",
          "name": "stdout",
          "text": [
            "Mounted at /content/gdrive\n"
          ]
        }
      ]
    },
    {
      "cell_type": "code",
      "metadata": {
        "colab": {
          "base_uri": "https://localhost:8080/"
        },
        "id": "5DCUcny6S-o7",
        "outputId": "1b60102c-c186-40db-843f-cca0dfd4ae96"
      },
      "source": [
        "import numpy as np\n",
        "import pandas as pd\n",
        "import matplotlib.pyplot as plt\n",
        "import cv2\n",
        "import scipy\n",
        "import glob\n",
        "\n",
        "import tensorflow as tf\n",
        "import matplotlib.pyplot as plt\n",
        "import os\n",
        "from PIL import Image\n",
        "import pickle\n",
        "import albumentations as A\n",
        "!pip install scikit-image==0.18.3\n",
        "from keras.preprocessing.image import ImageDataGenerator\n",
        "from keras.models import Sequential\n",
        "from keras.layers import Conv2D, MaxPooling2D, BatchNormalization\n",
        "from keras.layers import Activation, Dropout, Flatten, Dense\n",
        "!pip install segmentation-models\n",
        "%env SM_FRAMEWORK=tf.keras\n",
        "import segmentation_models as sm\n",
        "from keras.callbacks import EarlyStopping\n",
        "from keras.callbacks import ModelCheckpoint\n",
        "!pip install tensorflow-addons\n",
        "#!pip install -U albumentations"
      ],
      "execution_count": 2,
      "outputs": [
        {
          "output_type": "stream",
          "name": "stdout",
          "text": [
            "Requirement already satisfied: scikit-image==0.18.3 in /usr/local/lib/python3.7/dist-packages (0.18.3)\n",
            "Requirement already satisfied: tifffile>=2019.7.26 in /usr/local/lib/python3.7/dist-packages (from scikit-image==0.18.3) (2021.11.2)\n",
            "Requirement already satisfied: imageio>=2.3.0 in /usr/local/lib/python3.7/dist-packages (from scikit-image==0.18.3) (2.4.1)\n",
            "Requirement already satisfied: networkx>=2.0 in /usr/local/lib/python3.7/dist-packages (from scikit-image==0.18.3) (2.6.3)\n",
            "Requirement already satisfied: PyWavelets>=1.1.1 in /usr/local/lib/python3.7/dist-packages (from scikit-image==0.18.3) (1.3.0)\n",
            "Requirement already satisfied: matplotlib!=3.0.0,>=2.0.0 in /usr/local/lib/python3.7/dist-packages (from scikit-image==0.18.3) (3.2.2)\n",
            "Requirement already satisfied: scipy>=1.0.1 in /usr/local/lib/python3.7/dist-packages (from scikit-image==0.18.3) (1.4.1)\n",
            "Requirement already satisfied: pillow!=7.1.0,!=7.1.1,>=4.3.0 in /usr/local/lib/python3.7/dist-packages (from scikit-image==0.18.3) (7.1.2)\n",
            "Requirement already satisfied: numpy>=1.16.5 in /usr/local/lib/python3.7/dist-packages (from scikit-image==0.18.3) (1.21.6)\n",
            "Requirement already satisfied: python-dateutil>=2.1 in /usr/local/lib/python3.7/dist-packages (from matplotlib!=3.0.0,>=2.0.0->scikit-image==0.18.3) (2.8.2)\n",
            "Requirement already satisfied: pyparsing!=2.0.4,!=2.1.2,!=2.1.6,>=2.0.1 in /usr/local/lib/python3.7/dist-packages (from matplotlib!=3.0.0,>=2.0.0->scikit-image==0.18.3) (3.0.8)\n",
            "Requirement already satisfied: cycler>=0.10 in /usr/local/lib/python3.7/dist-packages (from matplotlib!=3.0.0,>=2.0.0->scikit-image==0.18.3) (0.11.0)\n",
            "Requirement already satisfied: kiwisolver>=1.0.1 in /usr/local/lib/python3.7/dist-packages (from matplotlib!=3.0.0,>=2.0.0->scikit-image==0.18.3) (1.4.2)\n",
            "Requirement already satisfied: typing-extensions in /usr/local/lib/python3.7/dist-packages (from kiwisolver>=1.0.1->matplotlib!=3.0.0,>=2.0.0->scikit-image==0.18.3) (4.2.0)\n",
            "Requirement already satisfied: six>=1.5 in /usr/local/lib/python3.7/dist-packages (from python-dateutil>=2.1->matplotlib!=3.0.0,>=2.0.0->scikit-image==0.18.3) (1.15.0)\n",
            "Collecting segmentation-models\n",
            "  Downloading segmentation_models-1.0.1-py3-none-any.whl (33 kB)\n",
            "Collecting image-classifiers==1.0.0\n",
            "  Downloading image_classifiers-1.0.0-py3-none-any.whl (19 kB)\n",
            "Collecting keras-applications<=1.0.8,>=1.0.7\n",
            "  Downloading Keras_Applications-1.0.8-py3-none-any.whl (50 kB)\n",
            "\u001b[K     |████████████████████████████████| 50 kB 8.3 MB/s \n",
            "\u001b[?25hCollecting efficientnet==1.0.0\n",
            "  Downloading efficientnet-1.0.0-py3-none-any.whl (17 kB)\n",
            "Requirement already satisfied: scikit-image in /usr/local/lib/python3.7/dist-packages (from efficientnet==1.0.0->segmentation-models) (0.18.3)\n",
            "Requirement already satisfied: numpy>=1.9.1 in /usr/local/lib/python3.7/dist-packages (from keras-applications<=1.0.8,>=1.0.7->segmentation-models) (1.21.6)\n",
            "Requirement already satisfied: h5py in /usr/local/lib/python3.7/dist-packages (from keras-applications<=1.0.8,>=1.0.7->segmentation-models) (3.1.0)\n",
            "Requirement already satisfied: cached-property in /usr/local/lib/python3.7/dist-packages (from h5py->keras-applications<=1.0.8,>=1.0.7->segmentation-models) (1.5.2)\n",
            "Requirement already satisfied: pillow!=7.1.0,!=7.1.1,>=4.3.0 in /usr/local/lib/python3.7/dist-packages (from scikit-image->efficientnet==1.0.0->segmentation-models) (7.1.2)\n",
            "Requirement already satisfied: networkx>=2.0 in /usr/local/lib/python3.7/dist-packages (from scikit-image->efficientnet==1.0.0->segmentation-models) (2.6.3)\n",
            "Requirement already satisfied: PyWavelets>=1.1.1 in /usr/local/lib/python3.7/dist-packages (from scikit-image->efficientnet==1.0.0->segmentation-models) (1.3.0)\n",
            "Requirement already satisfied: tifffile>=2019.7.26 in /usr/local/lib/python3.7/dist-packages (from scikit-image->efficientnet==1.0.0->segmentation-models) (2021.11.2)\n",
            "Requirement already satisfied: imageio>=2.3.0 in /usr/local/lib/python3.7/dist-packages (from scikit-image->efficientnet==1.0.0->segmentation-models) (2.4.1)\n",
            "Requirement already satisfied: matplotlib!=3.0.0,>=2.0.0 in /usr/local/lib/python3.7/dist-packages (from scikit-image->efficientnet==1.0.0->segmentation-models) (3.2.2)\n",
            "Requirement already satisfied: scipy>=1.0.1 in /usr/local/lib/python3.7/dist-packages (from scikit-image->efficientnet==1.0.0->segmentation-models) (1.4.1)\n",
            "Requirement already satisfied: python-dateutil>=2.1 in /usr/local/lib/python3.7/dist-packages (from matplotlib!=3.0.0,>=2.0.0->scikit-image->efficientnet==1.0.0->segmentation-models) (2.8.2)\n",
            "Requirement already satisfied: pyparsing!=2.0.4,!=2.1.2,!=2.1.6,>=2.0.1 in /usr/local/lib/python3.7/dist-packages (from matplotlib!=3.0.0,>=2.0.0->scikit-image->efficientnet==1.0.0->segmentation-models) (3.0.8)\n",
            "Requirement already satisfied: kiwisolver>=1.0.1 in /usr/local/lib/python3.7/dist-packages (from matplotlib!=3.0.0,>=2.0.0->scikit-image->efficientnet==1.0.0->segmentation-models) (1.4.2)\n",
            "Requirement already satisfied: cycler>=0.10 in /usr/local/lib/python3.7/dist-packages (from matplotlib!=3.0.0,>=2.0.0->scikit-image->efficientnet==1.0.0->segmentation-models) (0.11.0)\n",
            "Requirement already satisfied: typing-extensions in /usr/local/lib/python3.7/dist-packages (from kiwisolver>=1.0.1->matplotlib!=3.0.0,>=2.0.0->scikit-image->efficientnet==1.0.0->segmentation-models) (4.2.0)\n",
            "Requirement already satisfied: six>=1.5 in /usr/local/lib/python3.7/dist-packages (from python-dateutil>=2.1->matplotlib!=3.0.0,>=2.0.0->scikit-image->efficientnet==1.0.0->segmentation-models) (1.15.0)\n",
            "Installing collected packages: keras-applications, image-classifiers, efficientnet, segmentation-models\n",
            "Successfully installed efficientnet-1.0.0 image-classifiers-1.0.0 keras-applications-1.0.8 segmentation-models-1.0.1\n",
            "env: SM_FRAMEWORK=tf.keras\n",
            "Segmentation Models: using `tf.keras` framework.\n",
            "Collecting tensorflow-addons\n",
            "  Downloading tensorflow_addons-0.16.1-cp37-cp37m-manylinux_2_12_x86_64.manylinux2010_x86_64.whl (1.1 MB)\n",
            "\u001b[K     |████████████████████████████████| 1.1 MB 14.4 MB/s \n",
            "\u001b[?25hRequirement already satisfied: typeguard>=2.7 in /usr/local/lib/python3.7/dist-packages (from tensorflow-addons) (2.7.1)\n",
            "Installing collected packages: tensorflow-addons\n",
            "Successfully installed tensorflow-addons-0.16.1\n"
          ]
        }
      ]
    },
    {
      "cell_type": "markdown",
      "metadata": {
        "id": "K_tZnMZwC1cO"
      },
      "source": [
        "# Creating Training Dataset"
      ]
    },
    {
      "cell_type": "code",
      "metadata": {
        "id": "cxT7eKcdWSXO"
      },
      "source": [
        "from albumentations import (\n",
        "    HorizontalFlip, ShiftScaleRotate, RandomRotate90,\n",
        "    Transpose, Flip, Compose, Rotate, OneOf, RandomBrightnessContrast)\n",
        "\n",
        "\n",
        "transform = A.Compose([\n",
        "                    A.HorizontalFlip(p=0.5), \n",
        "                    A.ShiftScaleRotate(p=0.75, scale_limit=0.3, shift_limit=0.20, rotate_limit=90),\n",
        "                    A.RandomRotate90(p=0.5),\n",
        "                    A.Rotate(p =0.5, limit=90, interpolation=cv2.INTER_CUBIC)\n",
        "                    ])\n",
        "\n",
        "\n",
        "def visualize(image):\n",
        "    plt.figure(figsize=(2,2))\n",
        "    plt.axis('on')\n",
        "    plt.imshow(image)"
      ],
      "execution_count": 4,
      "outputs": []
    },
    {
      "cell_type": "code",
      "metadata": {
        "id": "uI370iIkqoSK"
      },
      "source": [
        "#!pip install scikit-image==0.18.3\n",
        "from skimage.color import rgb2hed, hed2rgb\n",
        "\n",
        "def Macenko_H(img):\n",
        "    # Separate the stains from the IHC image\n",
        "    ihc_hed = rgb2hed(img)\n",
        "\n",
        "    # Create an RGB image for each of the stains\n",
        "    null = np.zeros_like(ihc_hed[:, :, 0])\n",
        "    ihc_h = hed2rgb(np.stack((ihc_hed[:, :, 0], null, null), axis=-1))\n",
        "    ihc_e = hed2rgb(np.stack((null, ihc_hed[:, :, 1], null), axis=-1))\n",
        "    ihc_d = hed2rgb(np.stack((null, null, ihc_hed[:, :, 2]), axis=-1))\n",
        "    return (ihc_h * 255).astype(np.uint8)\n"
      ],
      "execution_count": 5,
      "outputs": []
    },
    {
      "cell_type": "code",
      "metadata": {
        "id": "mDFNYpnJtLbR"
      },
      "source": [
        "# Getting a list of images\n",
        "normal_images = glob.glob(\"/content/gdrive/MyDrive/Alireza's_copy_MITOS dataset/Alireza_NeuroEndocrine_Dataset/Normal_40x40/*\")\n",
        "\n",
        "# Combining all the images into one numpy array\n",
        "normal_images_dataset = [cv2.resize(cv2.imread(fname), (40,40)) for fname in normal_images]\n",
        "normal_images_dataset = np.array([Macenko_H(cv2.cvtColor(image, cv2.COLOR_BGR2RGB)) for image in normal_images_dataset])\n",
        "\n",
        "\n",
        "# Storing/pickling\n",
        "#normal_images_dataset.dump('***.npy')"
      ],
      "execution_count": 6,
      "outputs": []
    },
    {
      "cell_type": "code",
      "metadata": {
        "id": "PiUbyhTOrQRB"
      },
      "source": [
        "# Augmenting the dataset\n",
        "Aug_normal_images_dataset = []                 \n",
        "\n",
        "for k in range(4):\n",
        "    for i in range(np.size(normal_images_dataset, axis = 0)):\n",
        "        transformed = transform(image= normal_images_dataset[i,:,:,:].astype(np.uint8))\n",
        "        Aug_normal_images_dataset.append(transformed['image'])\n",
        "\n",
        "Aug_normal_images_dataset = np.array(Aug_normal_images_dataset)\n",
        "#visualize(transformed['image'])"
      ],
      "execution_count": 7,
      "outputs": []
    },
    {
      "cell_type": "code",
      "metadata": {
        "id": "F1yUfNCZUsJK",
        "colab": {
          "base_uri": "https://localhost:8080/",
          "height": 177
        },
        "outputId": "65b20b46-5b73-42f4-bfa6-43d2f085f55a"
      },
      "source": [
        "plt.figure(figsize=(2,2))\n",
        "plt.imshow(Aug_normal_images_dataset[14])"
      ],
      "execution_count": 8,
      "outputs": [
        {
          "output_type": "execute_result",
          "data": {
            "text/plain": [
              "<matplotlib.image.AxesImage at 0x7f07e0dc2a50>"
            ]
          },
          "metadata": {},
          "execution_count": 8
        },
        {
          "output_type": "display_data",
          "data": {
            "text/plain": [
              "<Figure size 144x144 with 1 Axes>"
            ],
            "image/png": "[encoded data removed]"
          },
          "metadata": {
            "needs_background": "light"
          }
        }
      ]
    },
    {
      "cell_type": "code",
      "metadata": {
        "id": "FsteZ4jjN1O0"
      },
      "source": [
        "normal_images_dataset = np.concatenate((normal_images_dataset, Aug_normal_images_dataset), axis = 0)"
      ],
      "execution_count": 9,
      "outputs": []
    },
    {
      "cell_type": "code",
      "metadata": {
        "id": "GNDX71c2_cxn",
        "colab": {
          "base_uri": "https://localhost:8080/"
        },
        "outputId": "f0b607a8-6942-4689-f412-804857499b0f"
      },
      "source": [
        "np.shape(normal_images_dataset)"
      ],
      "execution_count": 10,
      "outputs": [
        {
          "output_type": "execute_result",
          "data": {
            "text/plain": [
              "(12310, 40, 40, 3)"
            ]
          },
          "metadata": {},
          "execution_count": 10
        }
      ]
    },
    {
      "cell_type": "code",
      "metadata": {
        "id": "3RiDpr9qCIyZ",
        "colab": {
          "base_uri": "https://localhost:8080/",
          "height": 177
        },
        "outputId": "1db4dbc6-ae11-4da0-ffd5-455ab127f184"
      },
      "source": [
        "plt.figure(figsize=(2,2))\n",
        "plt.imshow(normal_images_dataset[14])"
      ],
      "execution_count": 11,
      "outputs": [
        {
          "output_type": "execute_result",
          "data": {
            "text/plain": [
              "<matplotlib.image.AxesImage at 0x7f07e0f4d1d0>"
            ]
          },
          "metadata": {},
          "execution_count": 11
        },
        {
          "output_type": "display_data",
          "data": {
            "text/plain": [
              "<Figure size 144x144 with 1 Axes>"
            ],
            "image/png": "[encoded data removed]"
          },
          "metadata": {
            "needs_background": "light"
          }
        }
      ]
    },
    {
      "cell_type": "code",
      "metadata": {
        "id": "cFoq6-psU_67",
        "colab": {
          "base_uri": "https://localhost:8080/"
        },
        "outputId": "550504ec-6ba9-451b-93c7-b29fecb4890f"
      },
      "source": [
        "np.max(normal_images_dataset[6])"
      ],
      "execution_count": 12,
      "outputs": [
        {
          "output_type": "execute_result",
          "data": {
            "text/plain": [
              "249"
            ]
          },
          "metadata": {},
          "execution_count": 12
        }
      ]
    },
    {
      "cell_type": "code",
      "metadata": {
        "id": "1ALSSAVytLVk"
      },
      "source": [
        "mitosis_images = glob.glob(\"/content/gdrive/MyDrive/Alireza's_copy_MITOS dataset/Alireza_NeuroEndocrine_Dataset/Mitosis_40x40/*\")\n",
        "\n",
        "# Combining all the images into one numpy array\n",
        "mitosis_images_dataset = [cv2.resize(cv2.imread(fname), (40,40)) for fname in mitosis_images]\n",
        "mitosis_images_dataset = np.array([Macenko_H(cv2.cvtColor(image, cv2.COLOR_BGR2RGB)) for image in mitosis_images_dataset])\n",
        "\n",
        "\n",
        "breast_mitosis_images = glob.glob(\"/content/gdrive/MyDrive/MITOS dataset/mitoses_images_60x60/*\")\n",
        "\n",
        "# Combining all the images into one numpy array\n",
        "breast_mitosis_images_dataset = [cv2.resize(np.load(fname), (40,40)) for fname in breast_mitosis_images]\n",
        "breast_mitosis_images_dataset = np.array([Macenko_H(cv2.cvtColor(image, cv2.COLOR_BGR2RGB)) for image in breast_mitosis_images_dataset])\n",
        "\n",
        "\n",
        "# Storing/pickling\n",
        "#mitosis_images_dataset.dump('***.npy')"
      ],
      "execution_count": 13,
      "outputs": []
    },
    {
      "cell_type": "code",
      "metadata": {
        "id": "WoBJc1Kzgbh_"
      },
      "source": [
        "larger_mitosis_images_dataset = np.concatenate((mitosis_images_dataset, breast_mitosis_images_dataset), axis = 0)"
      ],
      "execution_count": 14,
      "outputs": []
    },
    {
      "cell_type": "code",
      "metadata": {
        "id": "IdrcMOx3zA58",
        "colab": {
          "base_uri": "https://localhost:8080/",
          "height": 177
        },
        "outputId": "6a19c4f8-fc60-4ce3-c34f-91d73968b5d1"
      },
      "source": [
        "plt.figure(figsize=(2,2))\n",
        "plt.imshow(mitosis_images_dataset[6])"
      ],
      "execution_count": 15,
      "outputs": [
        {
          "output_type": "execute_result",
          "data": {
            "text/plain": [
              "<matplotlib.image.AxesImage at 0x7f07e08cf3d0>"
            ]
          },
          "metadata": {},
          "execution_count": 15
        },
        {
          "output_type": "display_data",
          "data": {
            "text/plain": [
              "<Figure size 144x144 with 1 Axes>"
            ],
            "image/png": "[encoded data removed]"
          },
          "metadata": {
            "needs_background": "light"
          }
        }
      ]
    },
    {
      "cell_type": "code",
      "metadata": {
        "id": "pp_2Z5Y5ONXx"
      },
      "source": [
        "# Augmenting the dataset\n",
        "Aug_larger_mitosis_images_dataset = []                 \n",
        "\n",
        "for k in range(6):\n",
        "    for i in range(np.size(larger_mitosis_images_dataset, axis = 0)):\n",
        "        transformed = transform(image= larger_mitosis_images_dataset[i,:,:,:].astype(np.uint8))\n",
        "        Aug_larger_mitosis_images_dataset.append(transformed['image'])\n",
        "\n",
        "Aug_larger_mitosis_images_dataset = np.array(Aug_larger_mitosis_images_dataset)\n",
        "#visualize(transformed['image'])"
      ],
      "execution_count": 16,
      "outputs": []
    },
    {
      "cell_type": "code",
      "metadata": {
        "id": "PGQPxGiTPQX3"
      },
      "source": [
        "larger_mitosis_images_dataset = np.concatenate((larger_mitosis_images_dataset, Aug_larger_mitosis_images_dataset), axis = 0)"
      ],
      "execution_count": 17,
      "outputs": []
    },
    {
      "cell_type": "code",
      "metadata": {
        "id": "wsvkzNGftLP2",
        "colab": {
          "base_uri": "https://localhost:8080/"
        },
        "outputId": "3a4b4a7a-12ff-4aad-c61c-d436e3f837c4"
      },
      "source": [
        "np.shape(larger_mitosis_images_dataset)"
      ],
      "execution_count": 18,
      "outputs": [
        {
          "output_type": "execute_result",
          "data": {
            "text/plain": [
              "(10234, 40, 40, 3)"
            ]
          },
          "metadata": {},
          "execution_count": 18
        }
      ]
    },
    {
      "cell_type": "code",
      "metadata": {
        "id": "L4yY4Utn4MB5",
        "colab": {
          "base_uri": "https://localhost:8080/",
          "height": 177
        },
        "outputId": "b320510a-c004-4b6e-94eb-9813617cdd8b"
      },
      "source": [
        "plt.figure(figsize=(2,2))\n",
        "plt.imshow(larger_mitosis_images_dataset[3])"
      ],
      "execution_count": 19,
      "outputs": [
        {
          "output_type": "execute_result",
          "data": {
            "text/plain": [
              "<matplotlib.image.AxesImage at 0x7f07e07e55d0>"
            ]
          },
          "metadata": {},
          "execution_count": 19
        },
        {
          "output_type": "display_data",
          "data": {
            "text/plain": [
              "<Figure size 144x144 with 1 Axes>"
            ],
            "image/png": "[encoded data removed]"
          },
          "metadata": {
            "needs_background": "light"
          }
        }
      ]
    },
    {
      "cell_type": "code",
      "metadata": {
        "id": "hal1mKwnkaNf"
      },
      "source": [
        "# Combining normal and mitosis images\n",
        "combined_image_dataset = np.concatenate((normal_images_dataset, larger_mitosis_images_dataset), axis = 0).astype(np.uint16)"
      ],
      "execution_count": 20,
      "outputs": []
    },
    {
      "cell_type": "code",
      "metadata": {
        "id": "tQJOd1Blpz3Q",
        "colab": {
          "base_uri": "https://localhost:8080/"
        },
        "outputId": "3b284e04-16be-4e64-f62e-841ab33bac4d"
      },
      "source": [
        "np.shape(combined_image_dataset)"
      ],
      "execution_count": 21,
      "outputs": [
        {
          "output_type": "execute_result",
          "data": {
            "text/plain": [
              "(22544, 40, 40, 3)"
            ]
          },
          "metadata": {},
          "execution_count": 21
        }
      ]
    },
    {
      "cell_type": "code",
      "metadata": {
        "id": "oWX0St-DtLM_"
      },
      "source": [
        "# Assigning a label to each image\n",
        "    # 0 = Normal\n",
        "    # 1 = Mitosis\n",
        "normal_label = np.zeros((np.size(normal_images_dataset, axis = 0)))\n",
        "\n",
        "mitosis_label = np.ones((np.size(larger_mitosis_images_dataset, axis = 0)))\n",
        "\n",
        "combined_label_dataset = np.concatenate((normal_label, mitosis_label))"
      ],
      "execution_count": 22,
      "outputs": []
    },
    {
      "cell_type": "code",
      "metadata": {
        "id": "yYebvTV7QVOF",
        "colab": {
          "base_uri": "https://localhost:8080/"
        },
        "outputId": "e0b72ca0-ee95-4233-a8e5-d311a17836a1"
      },
      "source": [
        "np.shape(combined_label_dataset)"
      ],
      "execution_count": 23,
      "outputs": [
        {
          "output_type": "execute_result",
          "data": {
            "text/plain": [
              "(22544,)"
            ]
          },
          "metadata": {},
          "execution_count": 23
        }
      ]
    },
    {
      "cell_type": "code",
      "metadata": {
        "id": "Y8dGsTShLAyg",
        "colab": {
          "base_uri": "https://localhost:8080/",
          "height": 177
        },
        "outputId": "eefcf0e8-02e1-4c2c-cb14-bebfba8eeb51"
      },
      "source": [
        "plt.figure(figsize=(2,2))\n",
        "img_ = combined_image_dataset[4]\n",
        "plt.imshow(img_)\n",
        "plt.show()\n",
        "combined_label_dataset[4]"
      ],
      "execution_count": 24,
      "outputs": [
        {
          "output_type": "display_data",
          "data": {
            "text/plain": [
              "<Figure size 144x144 with 1 Axes>"
            ],
            "image/png": "[encoded data removed]"
          },
          "metadata": {
            "needs_background": "light"
          }
        },
        {
          "output_type": "execute_result",
          "data": {
            "text/plain": [
              "0.0"
            ]
          },
          "metadata": {},
          "execution_count": 24
        }
      ]
    },
    {
      "cell_type": "markdown",
      "metadata": {
        "id": "VU4AlA1BCvB5"
      },
      "source": [
        "# Creating Validation Dataset"
      ]
    },
    {
      "cell_type": "code",
      "metadata": {
        "id": "t6owHtXlC7AY"
      },
      "source": [
        "# Getting a list of images\n",
        "val_normal_images = glob.glob(\"/content/gdrive/MyDrive/Alireza's_copy_MITOS dataset/Alireza_NeuroEndocrine_Dataset/Test_ds_Normal_40x40/*\")\n",
        "\n",
        "# Combining all the images into one numpy array\n",
        "val_normal_images_dataset = [cv2.resize(cv2.imread(fname), (40,40)) for fname in val_normal_images]\n",
        "val_normal_images_dataset = np.array([Macenko_H(cv2.cvtColor(image, cv2.COLOR_BGR2RGB)) for image in val_normal_images_dataset])\n"
      ],
      "execution_count": 25,
      "outputs": []
    },
    {
      "cell_type": "code",
      "metadata": {
        "id": "ApLwZ1FfDxb9",
        "colab": {
          "base_uri": "https://localhost:8080/"
        },
        "outputId": "72d2dcf7-ebc0-4606-d65b-357a7186bfb8"
      },
      "source": [
        "np.shape(val_normal_images_dataset)"
      ],
      "execution_count": 26,
      "outputs": [
        {
          "output_type": "execute_result",
          "data": {
            "text/plain": [
              "(1500, 40, 40, 3)"
            ]
          },
          "metadata": {},
          "execution_count": 26
        }
      ]
    },
    {
      "cell_type": "code",
      "metadata": {
        "id": "ld4E3B51AIDn",
        "colab": {
          "base_uri": "https://localhost:8080/",
          "height": 159
        },
        "outputId": "8ef87c6e-c26a-454d-9875-44c32ce47e61"
      },
      "source": [
        "plt.figure(figsize=(2,2))\n",
        "plt.imshow(val_normal_images_dataset[3])\n",
        "plt.show()"
      ],
      "execution_count": 27,
      "outputs": [
        {
          "output_type": "display_data",
          "data": {
            "text/plain": [
              "<Figure size 144x144 with 1 Axes>"
            ],
            "image/png": "[encoded data removed]"
          },
          "metadata": {
            "needs_background": "light"
          }
        }
      ]
    },
    {
      "cell_type": "code",
      "metadata": {
        "id": "ocrFCY-zC69w"
      },
      "source": [
        "val_mitosis_images = glob.glob(\"/content/gdrive/MyDrive/Alireza's_copy_MITOS dataset/Alireza_NeuroEndocrine_Dataset/Balanced_Val_dataset/Mits_50/*\")\n",
        "\n",
        "\n",
        "# Combining all the images into one numpy array\n",
        "val_mitosis_images_dataset = [cv2.resize(cv2.imread(fname), (40,40)) for fname in val_mitosis_images]\n",
        "val_mitosis_images_dataset = np.array([Macenko_H(cv2.cvtColor(image, cv2.COLOR_BGR2RGB)) for image in val_mitosis_images_dataset])\n"
      ],
      "execution_count": 28,
      "outputs": []
    },
    {
      "cell_type": "code",
      "metadata": {
        "id": "8mtFYu-CC67Z",
        "colab": {
          "base_uri": "https://localhost:8080/"
        },
        "outputId": "cbe67980-8036-41ce-e8e7-003f36b1ef82"
      },
      "source": [
        "np.shape(val_mitosis_images_dataset)"
      ],
      "execution_count": 29,
      "outputs": [
        {
          "output_type": "execute_result",
          "data": {
            "text/plain": [
              "(50, 40, 40, 3)"
            ]
          },
          "metadata": {},
          "execution_count": 29
        }
      ]
    },
    {
      "cell_type": "code",
      "metadata": {
        "id": "cCtWFyHpC64-"
      },
      "source": [
        "# Combining normal and mitosis validation images\n",
        "val_combined_image_dataset = np.concatenate((val_normal_images_dataset, val_mitosis_images_dataset), axis = 0).astype(np.uint16)"
      ],
      "execution_count": 30,
      "outputs": []
    },
    {
      "cell_type": "code",
      "metadata": {
        "id": "DASZtmYqD0Rq"
      },
      "source": [
        "# Assigning a label to each image\n",
        "    # 0 = Normal\n",
        "    # 1 = Mitosis\n",
        "val_normal_label = np.zeros((np.size(val_normal_images_dataset, axis = 0)))\n",
        "\n",
        "val_mitosis_label = np.ones((np.size(val_mitosis_images_dataset, axis = 0)))\n",
        "\n",
        "val_combined_label_dataset = np.concatenate((val_normal_label, val_mitosis_label))"
      ],
      "execution_count": 31,
      "outputs": []
    },
    {
      "cell_type": "code",
      "metadata": {
        "id": "tqY6vg3MD0Of",
        "colab": {
          "base_uri": "https://localhost:8080/"
        },
        "outputId": "c0d8d5bf-c3f3-456f-c8e7-57904b7bbac2"
      },
      "source": [
        "np.shape(val_combined_label_dataset)"
      ],
      "execution_count": 32,
      "outputs": [
        {
          "output_type": "execute_result",
          "data": {
            "text/plain": [
              "(1550,)"
            ]
          },
          "metadata": {},
          "execution_count": 32
        }
      ]
    },
    {
      "cell_type": "code",
      "metadata": {
        "id": "A1Sd9vZ6EuFA",
        "colab": {
          "base_uri": "https://localhost:8080/",
          "height": 177
        },
        "outputId": "4cab5ca8-3900-4302-809f-a4ac45cca9e1"
      },
      "source": [
        "plt.figure(figsize=(2,2))\n",
        "img_ = val_combined_image_dataset[50]\n",
        "plt.imshow(img_)\n",
        "plt.show()\n",
        "val_combined_label_dataset[50]"
      ],
      "execution_count": 33,
      "outputs": [
        {
          "output_type": "display_data",
          "data": {
            "text/plain": [
              "<Figure size 144x144 with 1 Axes>"
            ],
            "image/png": "[encoded data removed]"
          },
          "metadata": {
            "needs_background": "light"
          }
        },
        {
          "output_type": "execute_result",
          "data": {
            "text/plain": [
              "0.0"
            ]
          },
          "metadata": {},
          "execution_count": 33
        }
      ]
    },
    {
      "cell_type": "markdown",
      "metadata": {
        "id": "4XdWSIfJEycd"
      },
      "source": [
        "# CNN"
      ]
    },
    {
      "cell_type": "code",
      "metadata": {
        "id": "P2pFqNVbCMxo",
        "colab": {
          "base_uri": "https://localhost:8080/"
        },
        "outputId": "c7357d48-f611-4710-b4b8-0b44f73e73fd"
      },
      "source": [
        "SIZE = 40\n",
        "\n",
        "#Use customary x_train and y_train variables\n",
        "x_train = combined_image_dataset\n",
        "y_train = combined_label_dataset\n",
        "\n",
        "x_val = val_combined_image_dataset\n",
        "y_val = val_combined_label_dataset \n",
        "\n",
        "# from sklearn.model_selection import train_test_split\n",
        "# x_train, x_val, y_train, y_val = train_test_split(X, Y, test_size=0.3, random_state=42)\n",
        "\n",
        "\n",
        "INPUT_SHAPE = (SIZE, SIZE, 3)   #change to (SIZE, SIZE, 3)\n",
        "\n",
        "\n",
        "model = Sequential()\n",
        "model.add(Conv2D(32, (3, 3), input_shape=INPUT_SHAPE))\n",
        "model.add(BatchNormalization())\n",
        "model.add(Activation('relu'))\n",
        "model.add(MaxPooling2D(pool_size=(2, 2)))\n",
        "\n",
        "model.add(Conv2D(64, (3, 3), kernel_initializer = 'he_uniform'))\n",
        "model.add(BatchNormalization())\n",
        "model.add(Activation('relu'))\n",
        "model.add(MaxPooling2D(pool_size=(2, 2)))\n",
        "\n",
        "\n",
        "model.add(Conv2D(128, (3, 3), kernel_initializer = 'he_uniform'))\n",
        "model.add(BatchNormalization())\n",
        "model.add(Activation('relu'))\n",
        "model.add(MaxPooling2D(pool_size=(2, 2)))\n",
        "\n",
        "\n",
        "model.add(Conv2D(64, (3, 3), kernel_initializer = 'he_uniform'))\n",
        "model.add(BatchNormalization())\n",
        "model.add(Activation('relu'))\n",
        "model.add(MaxPooling2D((2,2), padding='same'))\n",
        "\n",
        "model.add(Flatten())\n",
        "model.add(Dense(64))\n",
        "model.add(BatchNormalization())\n",
        "model.add(Activation('relu'))\n",
        "\n",
        "model.add(Dense(1))\n",
        "model.add(Activation('sigmoid'))  \n",
        "\n",
        "\n",
        "\n",
        "\n",
        "#import tensorflow_addons as tfa\n",
        "#metric = [tfa.metrics.F1Score(num_classes = 1, average='micro',threshold=0.5)]\n",
        "\n",
        "model.compile(loss='binary_crossentropy',\n",
        "              optimizer='adam',             \n",
        "              metrics= ['accuracy'])\n",
        "\n",
        "print(model.summary())     \n",
        "\n",
        "\n",
        "\n",
        "\n",
        "##########################################################\n",
        "# simple early stopping\n",
        "es = EarlyStopping(monitor='val_accuracy', mode='max', verbose=0, patience= 100, restore_best_weights= True)\n",
        "mc = ModelCheckpoint('/content/drive/MyDrive/Colab Notebooks/saved_models/Mitoses_Binary_classification_40x40_Oct_17th.h5', monitor='val_accuracy', mode='max', verbose=0, save_best_only=True)\n",
        "\n",
        "\n",
        "\n",
        "history = model.fit(x_train, \n",
        "                         y_train, \n",
        "                         batch_size = 64, \n",
        "                         verbose = 1, \n",
        "                         epochs = 300,      \n",
        "                         validation_data=(x_val,y_val),\n",
        "                         callbacks= [es, mc],\n",
        "                         shuffle = True\n",
        "                     )\n",
        "\n"
      ],
      "execution_count": 34,
      "outputs": [
        {
          "output_type": "stream",
          "name": "stdout",
          "text": [
            "Model: \"sequential\"\n",
            "_________________________________________________________________\n",
            " Layer (type)                Output Shape              Param #   \n",
            "=================================================================\n",
            " conv2d (Conv2D)             (None, 38, 38, 32)        896       \n",
            "                                                                 \n",
            " batch_normalization (BatchN  (None, 38, 38, 32)       128       \n",
            " ormalization)                                                   \n",
            "                                                                 \n",
            " activation (Activation)     (None, 38, 38, 32)        0         \n",
            "                                                                 \n",
            " max_pooling2d (MaxPooling2D  (None, 19, 19, 32)       0         \n",
            " )                                                               \n",
            "                                                                 \n",
            " conv2d_1 (Conv2D)           (None, 17, 17, 64)        18496     \n",
            "                                                                 \n",
            " batch_normalization_1 (Batc  (None, 17, 17, 64)       256       \n",
            " hNormalization)                                                 \n",
            "                                                                 \n",
            " activation_1 (Activation)   (None, 17, 17, 64)        0         \n",
            "                                                                 \n",
            " max_pooling2d_1 (MaxPooling  (None, 8, 8, 64)         0         \n",
            " 2D)                                                             \n",
            "                                                                 \n",
            " conv2d_2 (Conv2D)           (None, 6, 6, 128)         73856     \n",
            "                                                                 \n",
            " batch_normalization_2 (Batc  (None, 6, 6, 128)        512       \n",
            " hNormalization)                                                 \n",
            "                                                                 \n",
            " activation_2 (Activation)   (None, 6, 6, 128)         0         \n",
            "                                                                 \n",
            " max_pooling2d_2 (MaxPooling  (None, 3, 3, 128)        0         \n",
            " 2D)                                                             \n",
            "                                                                 \n",
            " conv2d_3 (Conv2D)           (None, 1, 1, 64)          73792     \n",
            "                                                                 \n",
            " batch_normalization_3 (Batc  (None, 1, 1, 64)         256       \n",
            " hNormalization)                                                 \n",
            "                                                                 \n",
            " activation_3 (Activation)   (None, 1, 1, 64)          0         \n",
            "                                                                 \n",
            " max_pooling2d_3 (MaxPooling  (None, 1, 1, 64)         0         \n",
            " 2D)                                                             \n",
            "                                                                 \n",
            " flatten (Flatten)           (None, 64)                0         \n",
            "                                                                 \n",
            " dense (Dense)               (None, 64)                4160      \n",
            "                                                                 \n",
            " batch_normalization_4 (Batc  (None, 64)               256       \n",
            " hNormalization)                                                 \n",
            "                                                                 \n",
            " activation_4 (Activation)   (None, 64)                0         \n",
            "                                                                 \n",
            " dense_1 (Dense)             (None, 1)                 65        \n",
            "                                                                 \n",
            " activation_5 (Activation)   (None, 1)                 0         \n",
            "                                                                 \n",
            "=================================================================\n",
            "Total params: 172,673\n",
            "Trainable params: 171,969\n",
            "Non-trainable params: 704\n",
            "_________________________________________________________________\n",
            "None\n",
            "Epoch 1/300\n",
            "353/353 [==============================] - 15s 8ms/step - loss: 0.2529 - accuracy: 0.8995 - val_loss: 0.9779 - val_accuracy: 0.6606\n",
            "Epoch 2/300\n",
            "353/353 [==============================] - 2s 7ms/step - loss: 0.1892 - accuracy: 0.9285 - val_loss: 0.0580 - val_accuracy: 0.9813\n",
            "Epoch 3/300\n",
            "353/353 [==============================] - 2s 7ms/step - loss: 0.1490 - accuracy: 0.9442 - val_loss: 0.0605 - val_accuracy: 0.9742\n",
            "Epoch 4/300\n",
            "353/353 [==============================] - 2s 7ms/step - loss: 0.1259 - accuracy: 0.9536 - val_loss: 0.1492 - val_accuracy: 0.9406\n",
            "Epoch 5/300\n",
            "353/353 [==============================] - 2s 7ms/step - loss: 0.1057 - accuracy: 0.9610 - val_loss: 0.0609 - val_accuracy: 0.9794\n",
            "Epoch 6/300\n",
            "353/353 [==============================] - 2s 7ms/step - loss: 0.0925 - accuracy: 0.9651 - val_loss: 0.0565 - val_accuracy: 0.9787\n",
            "Epoch 7/300\n",
            "353/353 [==============================] - 2s 7ms/step - loss: 0.0741 - accuracy: 0.9729 - val_loss: 0.0675 - val_accuracy: 0.9761\n",
            "Epoch 8/300\n",
            "353/353 [==============================] - 2s 7ms/step - loss: 0.0665 - accuracy: 0.9750 - val_loss: 0.1409 - val_accuracy: 0.9484\n",
            "Epoch 9/300\n",
            "353/353 [==============================] - 2s 7ms/step - loss: 0.0569 - accuracy: 0.9797 - val_loss: 0.0610 - val_accuracy: 0.9800\n",
            "Epoch 10/300\n",
            "353/353 [==============================] - 2s 7ms/step - loss: 0.0549 - accuracy: 0.9801 - val_loss: 0.5847 - val_accuracy: 0.7761\n",
            "Epoch 11/300\n",
            "353/353 [==============================] - 2s 7ms/step - loss: 0.0429 - accuracy: 0.9836 - val_loss: 0.0582 - val_accuracy: 0.9806\n",
            "Epoch 12/300\n",
            "353/353 [==============================] - 2s 7ms/step - loss: 0.0492 - accuracy: 0.9815 - val_loss: 0.2035 - val_accuracy: 0.9458\n",
            "Epoch 13/300\n",
            "353/353 [==============================] - 2s 7ms/step - loss: 0.0337 - accuracy: 0.9872 - val_loss: 0.0502 - val_accuracy: 0.9832\n",
            "Epoch 14/300\n",
            "353/353 [==============================] - 2s 7ms/step - loss: 0.0293 - accuracy: 0.9902 - val_loss: 0.0586 - val_accuracy: 0.9781\n",
            "Epoch 15/300\n",
            "353/353 [==============================] - 2s 7ms/step - loss: 0.0295 - accuracy: 0.9895 - val_loss: 0.0940 - val_accuracy: 0.9639\n",
            "Epoch 16/300\n",
            "353/353 [==============================] - 2s 7ms/step - loss: 0.0253 - accuracy: 0.9914 - val_loss: 0.1564 - val_accuracy: 0.9613\n",
            "Epoch 17/300\n",
            "353/353 [==============================] - 2s 7ms/step - loss: 0.0294 - accuracy: 0.9893 - val_loss: 0.6345 - val_accuracy: 0.8406\n",
            "Epoch 18/300\n",
            "353/353 [==============================] - 2s 7ms/step - loss: 0.0238 - accuracy: 0.9912 - val_loss: 0.1561 - val_accuracy: 0.9529\n",
            "Epoch 19/300\n",
            "353/353 [==============================] - 2s 7ms/step - loss: 0.0246 - accuracy: 0.9914 - val_loss: 0.5791 - val_accuracy: 0.8755\n",
            "Epoch 20/300\n",
            "353/353 [==============================] - 2s 7ms/step - loss: 0.0324 - accuracy: 0.9889 - val_loss: 0.2036 - val_accuracy: 0.9419\n",
            "Epoch 21/300\n",
            "353/353 [==============================] - 2s 7ms/step - loss: 0.0126 - accuracy: 0.9961 - val_loss: 0.7207 - val_accuracy: 0.8329\n",
            "Epoch 22/300\n",
            "353/353 [==============================] - 2s 7ms/step - loss: 0.0173 - accuracy: 0.9933 - val_loss: 0.3588 - val_accuracy: 0.8981\n",
            "Epoch 23/300\n",
            "353/353 [==============================] - 2s 7ms/step - loss: 0.0140 - accuracy: 0.9954 - val_loss: 0.5511 - val_accuracy: 0.8794\n",
            "Epoch 24/300\n",
            "353/353 [==============================] - 2s 7ms/step - loss: 0.0109 - accuracy: 0.9963 - val_loss: 0.2453 - val_accuracy: 0.9477\n",
            "Epoch 25/300\n",
            "353/353 [==============================] - 2s 7ms/step - loss: 0.0179 - accuracy: 0.9937 - val_loss: 0.0595 - val_accuracy: 0.9839\n",
            "Epoch 26/300\n",
            "353/353 [==============================] - 2s 7ms/step - loss: 0.0150 - accuracy: 0.9947 - val_loss: 0.1456 - val_accuracy: 0.9606\n",
            "Epoch 27/300\n",
            "353/353 [==============================] - 2s 7ms/step - loss: 0.0109 - accuracy: 0.9964 - val_loss: 0.6856 - val_accuracy: 0.8387\n",
            "Epoch 28/300\n",
            "353/353 [==============================] - 2s 7ms/step - loss: 0.0109 - accuracy: 0.9966 - val_loss: 0.0606 - val_accuracy: 0.9832\n",
            "Epoch 29/300\n",
            "353/353 [==============================] - 2s 7ms/step - loss: 0.0159 - accuracy: 0.9944 - val_loss: 0.1925 - val_accuracy: 0.9465\n",
            "Epoch 30/300\n",
            "353/353 [==============================] - 2s 7ms/step - loss: 0.0089 - accuracy: 0.9970 - val_loss: 0.3133 - val_accuracy: 0.9310\n",
            "Epoch 31/300\n",
            "353/353 [==============================] - 2s 7ms/step - loss: 0.0127 - accuracy: 0.9953 - val_loss: 0.1110 - val_accuracy: 0.9690\n",
            "Epoch 32/300\n",
            "353/353 [==============================] - 2s 7ms/step - loss: 0.0181 - accuracy: 0.9939 - val_loss: 0.5459 - val_accuracy: 0.8748\n",
            "Epoch 33/300\n",
            "353/353 [==============================] - 2s 7ms/step - loss: 0.0069 - accuracy: 0.9975 - val_loss: 1.1777 - val_accuracy: 0.7903\n",
            "Epoch 34/300\n",
            "353/353 [==============================] - 2s 7ms/step - loss: 0.0116 - accuracy: 0.9960 - val_loss: 0.1208 - val_accuracy: 0.9645\n",
            "Epoch 35/300\n",
            "353/353 [==============================] - 2s 7ms/step - loss: 0.0116 - accuracy: 0.9963 - val_loss: 0.7601 - val_accuracy: 0.8529\n",
            "Epoch 36/300\n",
            "353/353 [==============================] - 2s 7ms/step - loss: 0.0087 - accuracy: 0.9971 - val_loss: 0.4607 - val_accuracy: 0.8897\n",
            "Epoch 37/300\n",
            "353/353 [==============================] - 2s 7ms/step - loss: 0.0246 - accuracy: 0.9918 - val_loss: 0.2841 - val_accuracy: 0.9271\n",
            "Epoch 38/300\n",
            "353/353 [==============================] - 2s 7ms/step - loss: 0.0080 - accuracy: 0.9980 - val_loss: 0.2905 - val_accuracy: 0.9335\n",
            "Epoch 39/300\n",
            "353/353 [==============================] - 2s 7ms/step - loss: 0.0078 - accuracy: 0.9973 - val_loss: 0.4950 - val_accuracy: 0.8890\n",
            "Epoch 40/300\n",
            "353/353 [==============================] - 2s 7ms/step - loss: 0.0128 - accuracy: 0.9956 - val_loss: 0.1092 - val_accuracy: 0.9729\n",
            "Epoch 41/300\n",
            "353/353 [==============================] - 2s 7ms/step - loss: 0.0039 - accuracy: 0.9989 - val_loss: 0.4675 - val_accuracy: 0.8955\n",
            "Epoch 42/300\n",
            "353/353 [==============================] - 2s 7ms/step - loss: 0.0051 - accuracy: 0.9984 - val_loss: 0.4321 - val_accuracy: 0.8981\n",
            "Epoch 43/300\n",
            "353/353 [==============================] - 2s 7ms/step - loss: 0.0108 - accuracy: 0.9962 - val_loss: 0.1412 - val_accuracy: 0.9600\n",
            "Epoch 44/300\n",
            "353/353 [==============================] - 2s 7ms/step - loss: 0.0104 - accuracy: 0.9967 - val_loss: 0.3132 - val_accuracy: 0.9290\n",
            "Epoch 45/300\n",
            "353/353 [==============================] - 2s 7ms/step - loss: 0.0076 - accuracy: 0.9973 - val_loss: 0.1329 - val_accuracy: 0.9606\n",
            "Epoch 46/300\n",
            "353/353 [==============================] - 2s 7ms/step - loss: 0.0052 - accuracy: 0.9982 - val_loss: 0.4963 - val_accuracy: 0.9065\n",
            "Epoch 47/300\n",
            "353/353 [==============================] - 2s 7ms/step - loss: 0.0084 - accuracy: 0.9972 - val_loss: 0.4052 - val_accuracy: 0.9245\n",
            "Epoch 48/300\n",
            "353/353 [==============================] - 2s 7ms/step - loss: 0.0100 - accuracy: 0.9960 - val_loss: 0.3211 - val_accuracy: 0.9335\n",
            "Epoch 49/300\n",
            "353/353 [==============================] - 2s 7ms/step - loss: 0.0095 - accuracy: 0.9967 - val_loss: 0.4074 - val_accuracy: 0.9168\n",
            "Epoch 50/300\n",
            "353/353 [==============================] - 2s 7ms/step - loss: 0.0056 - accuracy: 0.9980 - val_loss: 0.7937 - val_accuracy: 0.8755\n",
            "Epoch 51/300\n",
            "353/353 [==============================] - 2s 7ms/step - loss: 0.0040 - accuracy: 0.9988 - val_loss: 0.1216 - val_accuracy: 0.9632\n",
            "Epoch 52/300\n",
            "353/353 [==============================] - 2s 7ms/step - loss: 0.0091 - accuracy: 0.9971 - val_loss: 0.4821 - val_accuracy: 0.9135\n",
            "Epoch 53/300\n",
            "353/353 [==============================] - 2s 7ms/step - loss: 0.0093 - accuracy: 0.9968 - val_loss: 0.3031 - val_accuracy: 0.9316\n",
            "Epoch 54/300\n",
            "353/353 [==============================] - 2s 7ms/step - loss: 0.0081 - accuracy: 0.9969 - val_loss: 0.1867 - val_accuracy: 0.9510\n",
            "Epoch 55/300\n",
            "353/353 [==============================] - 2s 7ms/step - loss: 0.0067 - accuracy: 0.9980 - val_loss: 0.1534 - val_accuracy: 0.9555\n",
            "Epoch 56/300\n",
            "353/353 [==============================] - 2s 7ms/step - loss: 0.0066 - accuracy: 0.9977 - val_loss: 0.0735 - val_accuracy: 0.9781\n",
            "Epoch 57/300\n",
            "353/353 [==============================] - 2s 7ms/step - loss: 0.0152 - accuracy: 0.9946 - val_loss: 0.8295 - val_accuracy: 0.8335\n",
            "Epoch 58/300\n",
            "353/353 [==============================] - 2s 7ms/step - loss: 0.0084 - accuracy: 0.9970 - val_loss: 0.1241 - val_accuracy: 0.9735\n",
            "Epoch 59/300\n",
            "353/353 [==============================] - 2s 7ms/step - loss: 0.0053 - accuracy: 0.9979 - val_loss: 0.2463 - val_accuracy: 0.9413\n",
            "Epoch 60/300\n",
            "353/353 [==============================] - 2s 7ms/step - loss: 0.0044 - accuracy: 0.9989 - val_loss: 0.4968 - val_accuracy: 0.9019\n",
            "Epoch 61/300\n",
            "353/353 [==============================] - 2s 7ms/step - loss: 9.5364e-04 - accuracy: 0.9998 - val_loss: 0.7290 - val_accuracy: 0.8710\n",
            "Epoch 62/300\n",
            "353/353 [==============================] - 2s 7ms/step - loss: 0.0080 - accuracy: 0.9973 - val_loss: 0.1917 - val_accuracy: 0.9561\n",
            "Epoch 63/300\n",
            "353/353 [==============================] - 2s 7ms/step - loss: 0.0065 - accuracy: 0.9977 - val_loss: 0.3669 - val_accuracy: 0.9194\n",
            "Epoch 64/300\n",
            "353/353 [==============================] - 2s 7ms/step - loss: 0.0027 - accuracy: 0.9990 - val_loss: 0.4515 - val_accuracy: 0.9045\n",
            "Epoch 65/300\n",
            "353/353 [==============================] - 2s 7ms/step - loss: 0.0072 - accuracy: 0.9972 - val_loss: 0.5573 - val_accuracy: 0.8787\n",
            "Epoch 66/300\n",
            "353/353 [==============================] - 2s 7ms/step - loss: 0.0079 - accuracy: 0.9976 - val_loss: 0.3644 - val_accuracy: 0.9142\n",
            "Epoch 67/300\n",
            "353/353 [==============================] - 2s 7ms/step - loss: 0.0027 - accuracy: 0.9991 - val_loss: 0.3319 - val_accuracy: 0.9329\n",
            "Epoch 68/300\n",
            "353/353 [==============================] - 2s 7ms/step - loss: 0.0040 - accuracy: 0.9986 - val_loss: 0.2877 - val_accuracy: 0.9458\n",
            "Epoch 69/300\n",
            "353/353 [==============================] - 2s 7ms/step - loss: 0.0046 - accuracy: 0.9983 - val_loss: 0.3475 - val_accuracy: 0.9284\n",
            "Epoch 70/300\n",
            "353/353 [==============================] - 2s 7ms/step - loss: 0.0055 - accuracy: 0.9981 - val_loss: 0.3776 - val_accuracy: 0.9135\n",
            "Epoch 71/300\n",
            "353/353 [==============================] - 2s 7ms/step - loss: 0.0052 - accuracy: 0.9981 - val_loss: 0.3347 - val_accuracy: 0.9303\n",
            "Epoch 72/300\n",
            "353/353 [==============================] - 2s 7ms/step - loss: 0.0023 - accuracy: 0.9994 - val_loss: 0.8311 - val_accuracy: 0.8471\n",
            "Epoch 73/300\n",
            "353/353 [==============================] - 2s 7ms/step - loss: 0.0021 - accuracy: 0.9992 - val_loss: 0.4245 - val_accuracy: 0.9219\n",
            "Epoch 74/300\n",
            "353/353 [==============================] - 2s 7ms/step - loss: 0.0068 - accuracy: 0.9980 - val_loss: 0.7915 - val_accuracy: 0.8555\n",
            "Epoch 75/300\n",
            "353/353 [==============================] - 2s 7ms/step - loss: 0.0135 - accuracy: 0.9957 - val_loss: 0.3321 - val_accuracy: 0.9329\n",
            "Epoch 76/300\n",
            "353/353 [==============================] - 2s 7ms/step - loss: 0.0029 - accuracy: 0.9991 - val_loss: 0.4510 - val_accuracy: 0.9006\n",
            "Epoch 77/300\n",
            "353/353 [==============================] - 2s 7ms/step - loss: 0.0041 - accuracy: 0.9989 - val_loss: 0.1560 - val_accuracy: 0.9671\n",
            "Epoch 78/300\n",
            "353/353 [==============================] - 2s 7ms/step - loss: 0.0030 - accuracy: 0.9991 - val_loss: 0.3474 - val_accuracy: 0.9123\n",
            "Epoch 79/300\n",
            "353/353 [==============================] - 2s 7ms/step - loss: 0.0083 - accuracy: 0.9972 - val_loss: 0.4211 - val_accuracy: 0.9135\n",
            "Epoch 80/300\n",
            "353/353 [==============================] - 2s 7ms/step - loss: 0.0040 - accuracy: 0.9984 - val_loss: 0.5715 - val_accuracy: 0.8794\n",
            "Epoch 81/300\n",
            "353/353 [==============================] - 2s 7ms/step - loss: 0.0045 - accuracy: 0.9986 - val_loss: 0.4124 - val_accuracy: 0.9058\n",
            "Epoch 82/300\n",
            "353/353 [==============================] - 2s 7ms/step - loss: 0.0053 - accuracy: 0.9984 - val_loss: 0.2185 - val_accuracy: 0.9471\n",
            "Epoch 83/300\n",
            "353/353 [==============================] - 2s 7ms/step - loss: 0.0021 - accuracy: 0.9992 - val_loss: 0.3589 - val_accuracy: 0.9452\n",
            "Epoch 84/300\n",
            "353/353 [==============================] - 2s 7ms/step - loss: 0.0055 - accuracy: 0.9982 - val_loss: 0.0836 - val_accuracy: 0.9748\n",
            "Epoch 85/300\n",
            "353/353 [==============================] - 2s 7ms/step - loss: 0.0134 - accuracy: 0.9965 - val_loss: 0.4029 - val_accuracy: 0.9135\n",
            "Epoch 86/300\n",
            "353/353 [==============================] - 2s 7ms/step - loss: 0.0020 - accuracy: 0.9995 - val_loss: 0.3972 - val_accuracy: 0.9052\n",
            "Epoch 87/300\n",
            "353/353 [==============================] - 2s 7ms/step - loss: 0.0051 - accuracy: 0.9984 - val_loss: 0.5265 - val_accuracy: 0.9065\n",
            "Epoch 88/300\n",
            "353/353 [==============================] - 2s 7ms/step - loss: 0.0056 - accuracy: 0.9982 - val_loss: 0.3731 - val_accuracy: 0.9342\n",
            "Epoch 89/300\n",
            "353/353 [==============================] - 2s 7ms/step - loss: 0.0034 - accuracy: 0.9988 - val_loss: 0.4578 - val_accuracy: 0.9090\n",
            "Epoch 90/300\n",
            "353/353 [==============================] - 2s 7ms/step - loss: 0.0049 - accuracy: 0.9986 - val_loss: 0.2938 - val_accuracy: 0.9419\n",
            "Epoch 91/300\n",
            "353/353 [==============================] - 2s 7ms/step - loss: 6.4029e-04 - accuracy: 1.0000 - val_loss: 0.8934 - val_accuracy: 0.8516\n",
            "Epoch 92/300\n",
            "353/353 [==============================] - 2s 7ms/step - loss: 0.0031 - accuracy: 0.9991 - val_loss: 0.8625 - val_accuracy: 0.8245\n",
            "Epoch 93/300\n",
            "353/353 [==============================] - 2s 7ms/step - loss: 0.0066 - accuracy: 0.9980 - val_loss: 0.1513 - val_accuracy: 0.9658\n",
            "Epoch 94/300\n",
            "353/353 [==============================] - 2s 7ms/step - loss: 0.0042 - accuracy: 0.9989 - val_loss: 0.4580 - val_accuracy: 0.8994\n",
            "Epoch 95/300\n",
            "353/353 [==============================] - 2s 7ms/step - loss: 0.0096 - accuracy: 0.9965 - val_loss: 0.5486 - val_accuracy: 0.8761\n",
            "Epoch 96/300\n",
            "353/353 [==============================] - 2s 7ms/step - loss: 0.0015 - accuracy: 0.9996 - val_loss: 0.6225 - val_accuracy: 0.8916\n",
            "Epoch 97/300\n",
            "353/353 [==============================] - 2s 7ms/step - loss: 0.0014 - accuracy: 0.9996 - val_loss: 0.7266 - val_accuracy: 0.8523\n",
            "Epoch 98/300\n",
            "353/353 [==============================] - 2s 7ms/step - loss: 0.0130 - accuracy: 0.9960 - val_loss: 0.3717 - val_accuracy: 0.9226\n",
            "Epoch 99/300\n",
            "353/353 [==============================] - 2s 7ms/step - loss: 0.0028 - accuracy: 0.9991 - val_loss: 0.4973 - val_accuracy: 0.9019\n",
            "Epoch 100/300\n",
            "353/353 [==============================] - 2s 7ms/step - loss: 0.0014 - accuracy: 0.9995 - val_loss: 0.3889 - val_accuracy: 0.9232\n",
            "Epoch 101/300\n",
            "353/353 [==============================] - 2s 7ms/step - loss: 0.0011 - accuracy: 0.9997 - val_loss: 0.6034 - val_accuracy: 0.9039\n",
            "Epoch 102/300\n",
            "353/353 [==============================] - 2s 7ms/step - loss: 0.0021 - accuracy: 0.9994 - val_loss: 0.5362 - val_accuracy: 0.8903\n",
            "Epoch 103/300\n",
            "353/353 [==============================] - 2s 7ms/step - loss: 0.0016 - accuracy: 0.9995 - val_loss: 0.4942 - val_accuracy: 0.9135\n",
            "Epoch 104/300\n",
            "353/353 [==============================] - 2s 7ms/step - loss: 0.0014 - accuracy: 0.9996 - val_loss: 0.9786 - val_accuracy: 0.8194\n",
            "Epoch 105/300\n",
            "353/353 [==============================] - 2s 7ms/step - loss: 0.0039 - accuracy: 0.9985 - val_loss: 0.4534 - val_accuracy: 0.9090\n",
            "Epoch 106/300\n",
            "353/353 [==============================] - 2s 7ms/step - loss: 0.0021 - accuracy: 0.9994 - val_loss: 0.1211 - val_accuracy: 0.9742\n",
            "Epoch 107/300\n",
            "353/353 [==============================] - 2s 7ms/step - loss: 0.0069 - accuracy: 0.9977 - val_loss: 0.3615 - val_accuracy: 0.9335\n",
            "Epoch 108/300\n",
            "353/353 [==============================] - 2s 7ms/step - loss: 0.0027 - accuracy: 0.9992 - val_loss: 0.0905 - val_accuracy: 0.9787\n",
            "Epoch 109/300\n",
            "353/353 [==============================] - 2s 7ms/step - loss: 0.0043 - accuracy: 0.9985 - val_loss: 0.2466 - val_accuracy: 0.9432\n",
            "Epoch 110/300\n",
            "353/353 [==============================] - 2s 7ms/step - loss: 0.0012 - accuracy: 0.9996 - val_loss: 0.6179 - val_accuracy: 0.9006\n",
            "Epoch 111/300\n",
            "353/353 [==============================] - 2s 7ms/step - loss: 0.0039 - accuracy: 0.9984 - val_loss: 0.5493 - val_accuracy: 0.9110\n",
            "Epoch 112/300\n",
            "353/353 [==============================] - 2s 7ms/step - loss: 0.0021 - accuracy: 0.9994 - val_loss: 0.2699 - val_accuracy: 0.9510\n",
            "Epoch 113/300\n",
            "353/353 [==============================] - 2s 7ms/step - loss: 0.0026 - accuracy: 0.9991 - val_loss: 0.6377 - val_accuracy: 0.8845\n",
            "Epoch 114/300\n",
            "353/353 [==============================] - 2s 7ms/step - loss: 0.0018 - accuracy: 0.9996 - val_loss: 0.4381 - val_accuracy: 0.8923\n",
            "Epoch 115/300\n",
            "353/353 [==============================] - 2s 7ms/step - loss: 0.0072 - accuracy: 0.9976 - val_loss: 0.1464 - val_accuracy: 0.9684\n",
            "Epoch 116/300\n",
            "353/353 [==============================] - 2s 7ms/step - loss: 0.0049 - accuracy: 0.9984 - val_loss: 0.2118 - val_accuracy: 0.9561\n",
            "Epoch 117/300\n",
            "353/353 [==============================] - 2s 7ms/step - loss: 0.0049 - accuracy: 0.9993 - val_loss: 0.5594 - val_accuracy: 0.9084\n",
            "Epoch 118/300\n",
            "353/353 [==============================] - 2s 7ms/step - loss: 0.0067 - accuracy: 0.9976 - val_loss: 0.2151 - val_accuracy: 0.9510\n",
            "Epoch 119/300\n",
            "353/353 [==============================] - 2s 7ms/step - loss: 0.0024 - accuracy: 0.9990 - val_loss: 0.5093 - val_accuracy: 0.9065\n",
            "Epoch 120/300\n",
            "353/353 [==============================] - 2s 7ms/step - loss: 0.0035 - accuracy: 0.9990 - val_loss: 0.4564 - val_accuracy: 0.9058\n",
            "Epoch 121/300\n",
            "353/353 [==============================] - 2s 7ms/step - loss: 0.0017 - accuracy: 0.9994 - val_loss: 0.4423 - val_accuracy: 0.9142\n",
            "Epoch 122/300\n",
            "353/353 [==============================] - 2s 7ms/step - loss: 9.6825e-04 - accuracy: 0.9996 - val_loss: 0.3380 - val_accuracy: 0.9387\n",
            "Epoch 123/300\n",
            "353/353 [==============================] - 2s 7ms/step - loss: 0.0042 - accuracy: 0.9986 - val_loss: 0.3368 - val_accuracy: 0.9219\n",
            "Epoch 124/300\n",
            "353/353 [==============================] - 2s 7ms/step - loss: 0.0025 - accuracy: 0.9992 - val_loss: 0.8290 - val_accuracy: 0.8535\n",
            "Epoch 125/300\n",
            "353/353 [==============================] - 2s 7ms/step - loss: 0.0022 - accuracy: 0.9993 - val_loss: 0.9652 - val_accuracy: 0.8090\n"
          ]
        }
      ]
    },
    {
      "cell_type": "code",
      "metadata": {
        "id": "ATgjnTr8AhMJ",
        "colab": {
          "base_uri": "https://localhost:8080/",
          "height": 573
        },
        "outputId": "4abd2424-817d-47ea-b355-3c95305efcdd"
      },
      "source": [
        "#plot the training and validation accuracy and loss at each epoch\n",
        "\n",
        "loss = history.history['loss']\n",
        "val_loss = history.history['val_loss']\n",
        "epochs = range(1, len(loss) + 1)\n",
        "plt.plot(epochs, loss, 'y', label='Training loss')\n",
        "plt.plot(epochs, val_loss, 'r', label='Validation loss')\n",
        "plt.title('Training and validation loss')\n",
        "plt.xlabel('Epochs')\n",
        "plt.ylabel('Loss')\n",
        "plt.legend()\n",
        "plt.show()\n",
        "\n",
        "\n",
        "acc = history.history['accuracy']\n",
        "val_acc = history.history['val_accuracy']\n",
        "plt.plot(epochs, acc, 'y', label='Training acc')\n",
        "plt.plot(epochs, val_acc, 'r', label='Validation acc')\n",
        "plt.title('Training and validation accuracy')\n",
        "plt.xlabel('Epochs')\n",
        "plt.ylabel('Accuracy')\n",
        "plt.legend()\n",
        "plt.show()\n"
      ],
      "execution_count": 35,
      "outputs": [
        {
          "output_type": "display_data",
          "data": {
            "text/plain": [
              "<Figure size 432x288 with 1 Axes>"
            ],
            "image/png": "[encoded data removed]"
          },
          "metadata": {
            "needs_background": "light"
          }
        },
        {
          "output_type": "display_data",
          "data": {
            "text/plain": [
              "<Figure size 432x288 with 1 Axes>"
            ],
            "image/png": "[encoded data removed]"
          },
          "metadata": {
            "needs_background": "light"
          }
        }
      ]
    },
    {
      "cell_type": "code",
      "metadata": {
        "id": "cdxiCENlAhJg",
        "colab": {
          "base_uri": "https://localhost:8080/",
          "height": 705
        },
        "outputId": "cfc17b3f-8f62-4307-bbcd-89222777b176"
      },
      "source": [
        "n=45  #Select the index of image to be loaded for testing\n",
        "img = (x_val[n]).astype(np.uint16)\n",
        "#img = cv2.cvtColor(img, cv2.COLOR_BGR2RGB)\n",
        "plt.figure(figsize=(3,3))\n",
        "plt.imshow(img)\n",
        "plt.show()\n",
        "\n",
        "\n",
        "input_img = np.expand_dims(img, axis=0) #Expand dims so the input is (num images, x, y, c)\n",
        "print(\"The prediction for this image is: \", model.predict(input_img))\n",
        "print(\"The actual label for this image is: \", y_val[n])\n",
        "\n",
        "\n",
        "_, acc = model.evaluate(x_val, y_val)\n",
        "print(\"Accuracy = \", (acc * 100.0), \"%\")\n",
        "\n",
        "\n",
        "################################################################\n",
        "mythreshold = 0.086787\n",
        "################################################################\n",
        "\n",
        "\n",
        "from sklearn.metrics import confusion_matrix\n",
        "\n",
        "y_pred = (model.predict(x_val)>= mythreshold).astype(int)\n",
        "cm = confusion_matrix(y_val, y_pred)  \n",
        "print(cm)\n",
        "\n",
        "Recall = (cm[0,0] / (cm[0,0] + cm[0,1]))\n",
        "print(\"Recall = \", Recall)\n",
        "\n",
        "Precision = (cm[0,0] / (cm[0,0] + cm[1,0]))\n",
        "print(\"Precision = \", Precision)\n",
        "\n",
        "F_measure = (2 * Recall * Precision) / (Recall + Precision)\n",
        "print(\"F_measure = \", F_measure )\n",
        "\n",
        "\n",
        "#ROC\n",
        "from sklearn.metrics import roc_curve\n",
        "y_preds = model.predict(x_val).ravel()\n",
        "\n",
        "fpr, tpr, thresholds = roc_curve(y_val, y_preds)\n",
        "\n",
        "plt.figure(1)\n",
        "plt.plot([0, 1], [0, 1], 'y--')\n",
        "plt.plot(fpr, tpr, marker='.')\n",
        "plt.xlabel('False positive rate')\n",
        "plt.ylabel('True positive rate')\n",
        "plt.title('ROC curve')\n",
        "plt.show()\n",
        "\n",
        "\n",
        "import pandas as pd\n",
        "i = np.arange(len(tpr)) \n",
        "roc = pd.DataFrame({'tf' : pd.Series(tpr-(1-fpr), index=i), 'thresholds' : pd.Series(thresholds, index=i)})\n",
        "ideal_roc_thresh = roc.iloc[(roc.tf-0).abs().argsort()[:1]]  #Locate the point where the value is close to 0\n",
        "print(\"Ideal threshold is: \", ideal_roc_thresh['thresholds']) \n",
        "\n",
        "\n",
        "from sklearn.metrics import auc\n",
        "auc_value = auc(fpr, tpr)\n",
        "print(\"Area under curve, AUC = \", auc_value)\n"
      ],
      "execution_count": 37,
      "outputs": [
        {
          "output_type": "display_data",
          "data": {
            "text/plain": [
              "<Figure size 216x216 with 1 Axes>"
            ],
            "image/png": "[encoded data removed]"
          },
          "metadata": {
            "needs_background": "light"
          }
        },
        {
          "output_type": "stream",
          "name": "stdout",
          "text": [
            "The prediction for this image is:  [[0.05026812]]\n",
            "The actual label for this image is:  0.0\n",
            "49/49 [==============================] - 0s 3ms/step - loss: 0.0595 - accuracy: 0.9839\n",
            "Accuracy =  98.38709831237793 %\n",
            "[[1460   40]\n",
            " [   3   47]]\n",
            "Recall =  0.9733333333333334\n",
            "Precision =  0.9979494190020506\n",
            "F_measure =  0.9854876814039825\n"
          ]
        },
        {
          "output_type": "display_data",
          "data": {
            "text/plain": [
              "<Figure size 432x288 with 1 Axes>"
            ],
            "image/png": "[encoded data removed]"
          },
          "metadata": {
            "needs_background": "light"
          }
        },
        {
          "output_type": "stream",
          "name": "stdout",
          "text": [
            "Ideal threshold is:  24    0.086787\n",
            "Name: thresholds, dtype: float32\n",
            "Area under curve, AUC =  0.9899600000000001\n"
          ]
        }
      ]
    }
  ]
}