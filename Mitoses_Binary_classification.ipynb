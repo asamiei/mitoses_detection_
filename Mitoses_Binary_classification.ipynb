{
  "nbformat": 4,
  "nbformat_minor": 0,
  "metadata": {
    "colab": {
      "name": "April_Mitoses_Binary_classification.ipynb",
      "provenance": [],
      "collapsed_sections": [],
      "machine_shape": "hm",
      "include_colab_link": true
    },
    "kernelspec": {
      "name": "python3",
      "display_name": "Python 3"
    },
    "language_info": {
      "name": "python"
    },
    "accelerator": "GPU"
  },
  "cells": [
    {
      "cell_type": "markdown",
      "metadata": {
        "id": "view-in-github",
        "colab_type": "text"
      },
      "source": [
        "<a href=\"https://colab.research.google.com/github/asamiei/mitoses_detection_/blob/main/Mitoses_Binary_classification.ipynb\" target=\"_parent\"><img src=\"https://colab.research.google.com/assets/colab-badge.svg\" alt=\"Open In Colab\"/></a>"
      ]
    },
    {
      "cell_type": "markdown",
      "metadata": {
        "id": "j5HDgq7KY4QI"
      },
      "source": [
        "# Takes in a 40 x 40 image (RGB), and determines if it is mitosis (=1) or not (=0) \n",
        "# The cell should be at the center, with a radius of ~20-40 pixels"
      ]
    },
    {
      "cell_type": "code",
      "metadata": {
        "colab": {
          "base_uri": "https://localhost:8080/"
        },
        "id": "Fm9Q3j9FA0Sh",
        "outputId": "fff743f5-ad5a-4462-84be-acb919e6e247"
      },
      "source": [
        "from google.colab import drive\n",
        "drive.mount('/content/gdrive')"
      ],
      "execution_count": null,
      "outputs": [
        {
          "output_type": "stream",
          "name": "stdout",
          "text": [
            "Drive already mounted at /content/gdrive; to attempt to forcibly remount, call drive.mount(\"/content/gdrive\", force_remount=True).\n"
          ]
        }
      ]
    },
    {
      "cell_type": "code",
      "metadata": {
        "id": "5DCUcny6S-o7",
        "colab": {
          "base_uri": "https://localhost:8080/"
        },
        "outputId": "428eb50a-30f7-4069-c97a-b2d16b990b80"
      },
      "source": [
        "import numpy as np\n",
        "import pandas as pd\n",
        "import matplotlib.pyplot as plt\n",
        "import cv2\n",
        "import scipy\n",
        "import glob\n",
        "import tensorflow as tf\n",
        "import matplotlib.pyplot as plt\n",
        "import matplotlib.image as mpimg\n",
        "import os\n",
        "from PIL import Image\n",
        "import pickle\n",
        "import pandas as pd\n",
        "from keras.callbacks import EarlyStopping\n",
        "from keras.callbacks import ModelCheckpoint\n",
        "\n",
        "from keras.preprocessing.image import ImageDataGenerator\n",
        "from keras.models import Sequential\n",
        "from keras.layers import Conv2D, MaxPooling2D, BatchNormalization\n",
        "from keras.layers import Activation, Dropout, Flatten, Dense\n",
        "!pip install segmentation-models\n",
        "%env SM_FRAMEWORK=tf.keras\n",
        "import segmentation_models as sm"
      ],
      "execution_count": null,
      "outputs": [
        {
          "output_type": "stream",
          "name": "stdout",
          "text": [
            "Requirement already satisfied: segmentation-models in /usr/local/lib/python3.7/dist-packages (1.0.1)\n",
            "Requirement already satisfied: efficientnet==1.0.0 in /usr/local/lib/python3.7/dist-packages (from segmentation-models) (1.0.0)\n",
            "Requirement already satisfied: keras-applications<=1.0.8,>=1.0.7 in /usr/local/lib/python3.7/dist-packages (from segmentation-models) (1.0.8)\n",
            "Requirement already satisfied: image-classifiers==1.0.0 in /usr/local/lib/python3.7/dist-packages (from segmentation-models) (1.0.0)\n",
            "Requirement already satisfied: scikit-image in /usr/local/lib/python3.7/dist-packages (from efficientnet==1.0.0->segmentation-models) (0.18.3)\n",
            "Requirement already satisfied: h5py in /usr/local/lib/python3.7/dist-packages (from keras-applications<=1.0.8,>=1.0.7->segmentation-models) (3.1.0)\n",
            "Requirement already satisfied: numpy>=1.9.1 in /usr/local/lib/python3.7/dist-packages (from keras-applications<=1.0.8,>=1.0.7->segmentation-models) (1.21.6)\n",
            "Requirement already satisfied: cached-property in /usr/local/lib/python3.7/dist-packages (from h5py->keras-applications<=1.0.8,>=1.0.7->segmentation-models) (1.5.2)\n",
            "Requirement already satisfied: pillow!=7.1.0,!=7.1.1,>=4.3.0 in /usr/local/lib/python3.7/dist-packages (from scikit-image->efficientnet==1.0.0->segmentation-models) (7.1.2)\n",
            "Requirement already satisfied: PyWavelets>=1.1.1 in /usr/local/lib/python3.7/dist-packages (from scikit-image->efficientnet==1.0.0->segmentation-models) (1.3.0)\n",
            "Requirement already satisfied: imageio>=2.3.0 in /usr/local/lib/python3.7/dist-packages (from scikit-image->efficientnet==1.0.0->segmentation-models) (2.4.1)\n",
            "Requirement already satisfied: scipy>=1.0.1 in /usr/local/lib/python3.7/dist-packages (from scikit-image->efficientnet==1.0.0->segmentation-models) (1.4.1)\n",
            "Requirement already satisfied: tifffile>=2019.7.26 in /usr/local/lib/python3.7/dist-packages (from scikit-image->efficientnet==1.0.0->segmentation-models) (2021.11.2)\n",
            "Requirement already satisfied: networkx>=2.0 in /usr/local/lib/python3.7/dist-packages (from scikit-image->efficientnet==1.0.0->segmentation-models) (2.6.3)\n",
            "Requirement already satisfied: matplotlib!=3.0.0,>=2.0.0 in /usr/local/lib/python3.7/dist-packages (from scikit-image->efficientnet==1.0.0->segmentation-models) (3.2.2)\n",
            "Requirement already satisfied: pyparsing!=2.0.4,!=2.1.2,!=2.1.6,>=2.0.1 in /usr/local/lib/python3.7/dist-packages (from matplotlib!=3.0.0,>=2.0.0->scikit-image->efficientnet==1.0.0->segmentation-models) (3.0.8)\n",
            "Requirement already satisfied: kiwisolver>=1.0.1 in /usr/local/lib/python3.7/dist-packages (from matplotlib!=3.0.0,>=2.0.0->scikit-image->efficientnet==1.0.0->segmentation-models) (1.4.2)\n",
            "Requirement already satisfied: python-dateutil>=2.1 in /usr/local/lib/python3.7/dist-packages (from matplotlib!=3.0.0,>=2.0.0->scikit-image->efficientnet==1.0.0->segmentation-models) (2.8.2)\n",
            "Requirement already satisfied: cycler>=0.10 in /usr/local/lib/python3.7/dist-packages (from matplotlib!=3.0.0,>=2.0.0->scikit-image->efficientnet==1.0.0->segmentation-models) (0.11.0)\n",
            "Requirement already satisfied: typing-extensions in /usr/local/lib/python3.7/dist-packages (from kiwisolver>=1.0.1->matplotlib!=3.0.0,>=2.0.0->scikit-image->efficientnet==1.0.0->segmentation-models) (4.2.0)\n",
            "Requirement already satisfied: six>=1.5 in /usr/local/lib/python3.7/dist-packages (from python-dateutil>=2.1->matplotlib!=3.0.0,>=2.0.0->scikit-image->efficientnet==1.0.0->segmentation-models) (1.15.0)\n",
            "env: SM_FRAMEWORK=tf.keras\n",
            "Segmentation Models: using `tf.keras` framework.\n"
          ]
        }
      ]
    },
    {
      "cell_type": "code",
      "source": [
        "import albumentations as A\n",
        "from albumentations import (\n",
        "    HorizontalFlip, ShiftScaleRotate, RandomRotate90,\n",
        "    Transpose, Flip, Compose, Rotate, OneOf, RandomBrightness)\n",
        "\n",
        "\n",
        "transform = A.Compose([\n",
        "                    A.HorizontalFlip(p=0.5), \n",
        "                    A.ShiftScaleRotate(p=0.75, scale_limit=0.3, shift_limit=0.20, rotate_limit=90),\n",
        "                    A.RandomRotate90(p=0.5),\n",
        "                    A.RandomBrightness (limit=0.2, p=0.25),\n",
        "                    A.Rotate(p =0.5, limit=90, interpolation=cv2.INTER_CUBIC)\n",
        "                    ])\n",
        "\n",
        "\n",
        "def visualize(image):\n",
        "    plt.figure(figsize=(2,2))\n",
        "    plt.axis('on')\n",
        "    plt.imshow(image)"
      ],
      "metadata": {
        "id": "u_HHJmyf3v88"
      },
      "execution_count": null,
      "outputs": []
    },
    {
      "cell_type": "code",
      "source": [
        "from skimage import data\n",
        "from skimage.color import rgb2hed, hed2rgb\n",
        "\n",
        "def HnE_Hematoxylin(image):\n",
        "    # Separate the stains from the IHC image\n",
        "    ihc_hed = rgb2hed(image)\n",
        "\n",
        "    # Create an RGB image for each of the stains\n",
        "    null = np.zeros_like(ihc_hed[:, :, 0])\n",
        "    ihc_h = hed2rgb(np.stack((ihc_hed[:, :, 0], null, null), axis=-1))\n",
        "    ihc_e = hed2rgb(np.stack((null, ihc_hed[:, :, 1], null), axis=-1))\n",
        "    ihc_d = hed2rgb(np.stack((null, null, ihc_hed[:, :, 2]), axis=-1))\n",
        "\n",
        "    return (ihc_h * 255).astype(np.uint8)"
      ],
      "metadata": {
        "id": "qr5TwFu_ma8r"
      },
      "execution_count": null,
      "outputs": []
    },
    {
      "cell_type": "code",
      "metadata": {
        "id": "mDFNYpnJtLbR"
      },
      "source": [
        "# Getting a list of images\n",
        "normal_images = glob.glob(\"/content/gdrive/MyDrive/Alireza's_copy_MITOS dataset/Alireza_NeuroEndocrine_Dataset/Normal_40x40/*\")\n",
        "\n",
        "# Combining all the images into one numpy array\n",
        "normal_images_dataset = [cv2.resize(cv2.imread(fname), (40,40)) for fname in normal_images]\n",
        "normal_images_dataset = np.array([HnE_Hematoxylin(cv2.cvtColor(image, cv2.COLOR_BGR2RGB)) for image in normal_images_dataset])\n",
        "\n",
        "\n",
        "\n",
        "# Storing/pickling\n",
        "#normal_images_dataset.dump('/content/drive/MyDrive/MITOS dataset/normal_images_dataset.npy')\n"
      ],
      "execution_count": null,
      "outputs": []
    },
    {
      "cell_type": "code",
      "source": [
        "len(normal_images_dataset)"
      ],
      "metadata": {
        "colab": {
          "base_uri": "https://localhost:8080/"
        },
        "id": "Rnmp7td6AcaF",
        "outputId": "4be8caf7-2e79-4d07-ebb4-295045a09eda"
      },
      "execution_count": null,
      "outputs": [
        {
          "output_type": "execute_result",
          "data": {
            "text/plain": [
              "2462"
            ]
          },
          "metadata": {},
          "execution_count": 6
        }
      ]
    },
    {
      "cell_type": "code",
      "source": [
        "# Augmenting the dataset\n",
        "Aug_normal_images_dataset = []                 \n",
        "\n",
        "for k in range(3):\n",
        "    for i in range(np.size(normal_images_dataset, axis = 0)):\n",
        "        transformed = transform(image= normal_images_dataset[i,:,:,:].astype(np.uint8))\n",
        "        Aug_normal_images_dataset.append(transformed['image'])\n",
        "\n",
        "Aug_normal_images_dataset = np.array(Aug_normal_images_dataset)\n",
        "#visualize(transformed['image'])"
      ],
      "metadata": {
        "id": "eJvnnYtv4N-Q"
      },
      "execution_count": null,
      "outputs": []
    },
    {
      "cell_type": "code",
      "metadata": {
        "id": "FsteZ4jjN1O0"
      },
      "source": [
        "normal_images_dataset = np.concatenate((normal_images_dataset, Aug_normal_images_dataset), axis = 0)"
      ],
      "execution_count": null,
      "outputs": []
    },
    {
      "cell_type": "code",
      "metadata": {
        "colab": {
          "base_uri": "https://localhost:8080/"
        },
        "outputId": "50f41949-b6f6-460e-ded9-63ce3cf87e74",
        "id": "nfK4r8L14SHh"
      },
      "source": [
        "print(\"Total Normal images in training set:\")\n",
        "np.shape(normal_images_dataset)"
      ],
      "execution_count": null,
      "outputs": [
        {
          "output_type": "stream",
          "name": "stdout",
          "text": [
            "Total Normal images in training set:\n"
          ]
        },
        {
          "output_type": "execute_result",
          "data": {
            "text/plain": [
              "(9848, 40, 40, 3)"
            ]
          },
          "metadata": {},
          "execution_count": 9
        }
      ]
    },
    {
      "cell_type": "code",
      "source": [
        "# Display random images from the dataset\n",
        "print(\"Sample non-dividing cells:\")\n",
        "fig, axes = plt.subplots(1, 5, figsize=(5, 5), sharex=True, sharey=True)\n",
        "ax = axes.ravel()\n",
        "\n",
        "ax[0].imshow(normal_images_dataset[0])\n",
        "ax[1].imshow(normal_images_dataset[10])\n",
        "ax[2].imshow(normal_images_dataset[100])\n",
        "ax[3].imshow(normal_images_dataset[1000])\n",
        "ax[4].imshow(normal_images_dataset[-1])\n",
        "\n",
        "for a in ax.ravel():\n",
        "    a.axis('off')\n",
        "\n",
        "fig.tight_layout()"
      ],
      "metadata": {
        "colab": {
          "base_uri": "https://localhost:8080/",
          "height": 108
        },
        "id": "dMbMEj8U3N1O",
        "outputId": "a315a1e7-aba3-4d38-f6b1-e855308279f7"
      },
      "execution_count": null,
      "outputs": [
        {
          "output_type": "stream",
          "name": "stdout",
          "text": [
            "Sample non-dividing cells:\n"
          ]
        },
        {
          "output_type": "display_data",
          "data": {
            "text/plain": [
              "<Figure size 360x360 with 5 Axes>"
            ],
            "image/png": "[encoded data removed]"
          },
          "metadata": {
            "needs_background": "light"
          }
        }
      ]
    },
    {
      "cell_type": "code",
      "metadata": {
        "id": "1ALSSAVytLVk"
      },
      "source": [
        "mitosis_images = glob.glob(\"/content/gdrive/MyDrive/Alireza's_copy_MITOS dataset/Alireza_NeuroEndocrine_Dataset/Mitosis_40x40/*\")\n",
        "\n",
        "# Combining all the images into one numpy array\n",
        "mitosis_images_dataset = [cv2.resize(cv2.imread(fname), (40,40)) for fname in mitosis_images]\n",
        "mitosis_images_dataset = np.array([HnE_Hematoxylin(cv2.cvtColor(image, cv2.COLOR_BGR2RGB)) for image in mitosis_images_dataset])\n",
        "\n",
        "\n",
        "\n",
        "# Storing/pickling\n",
        "#mitosis_images_dataset.dump('/content/drive/MyDrive/MITOS dataset/neuroendocrine_mitosis_images_dataset.npy')"
      ],
      "execution_count": null,
      "outputs": []
    },
    {
      "cell_type": "code",
      "source": [
        "len(mitosis_images_dataset)"
      ],
      "metadata": {
        "colab": {
          "base_uri": "https://localhost:8080/"
        },
        "id": "cd_HU_JJAfZN",
        "outputId": "661a05e2-d32a-49b7-c0bb-eae99e59482a"
      },
      "execution_count": null,
      "outputs": [
        {
          "output_type": "execute_result",
          "data": {
            "text/plain": [
              "1417"
            ]
          },
          "metadata": {},
          "execution_count": 12
        }
      ]
    },
    {
      "cell_type": "code",
      "metadata": {
        "id": "pp_2Z5Y5ONXx"
      },
      "source": [
        "# Augmenting the dataset\n",
        "Aug_larger_mitosis_images_dataset = []                 \n",
        "\n",
        "for k in range(7):\n",
        "    for i in range(np.size(mitosis_images_dataset, axis = 0)):\n",
        "        transformed = transform(image= mitosis_images_dataset[i,:,:,:].astype(np.uint8))\n",
        "        Aug_larger_mitosis_images_dataset.append(transformed['image'])\n",
        "\n",
        "Aug_lmitosis_images_dataset = np.array(Aug_larger_mitosis_images_dataset)\n",
        "#visualize(transformed['image'])"
      ],
      "execution_count": null,
      "outputs": []
    },
    {
      "cell_type": "code",
      "metadata": {
        "id": "PGQPxGiTPQX3"
      },
      "source": [
        "mitosis_images_dataset = np.concatenate((mitosis_images_dataset, Aug_lmitosis_images_dataset), axis = 0)"
      ],
      "execution_count": null,
      "outputs": []
    },
    {
      "cell_type": "code",
      "metadata": {
        "colab": {
          "base_uri": "https://localhost:8080/"
        },
        "outputId": "1580d016-fc94-4823-c062-4086a9a28f55",
        "id": "9J4oFnp94nem"
      },
      "source": [
        "print(\"Total mitoses images in training set:\")\n",
        "np.shape(mitosis_images_dataset)"
      ],
      "execution_count": null,
      "outputs": [
        {
          "output_type": "stream",
          "name": "stdout",
          "text": [
            "Total mitoses images in training set:\n"
          ]
        },
        {
          "output_type": "execute_result",
          "data": {
            "text/plain": [
              "(11336, 40, 40, 3)"
            ]
          },
          "metadata": {},
          "execution_count": 15
        }
      ]
    },
    {
      "cell_type": "code",
      "source": [
        "# Display random images from the dataset\n",
        "print(\"Sample candidate mitoses:\")\n",
        "fig, axes = plt.subplots(1, 5, figsize=(5, 5), sharex=True, sharey=True)\n",
        "ax = axes.ravel()\n",
        "\n",
        "ax[0].imshow(mitosis_images_dataset[0])\n",
        "ax[1].imshow(mitosis_images_dataset[10])\n",
        "ax[2].imshow(mitosis_images_dataset[100])\n",
        "ax[3].imshow(mitosis_images_dataset[1000])\n",
        "ax[4].imshow(mitosis_images_dataset[-1])\n",
        "\n",
        "for a in ax.ravel():\n",
        "    a.axis('off')\n",
        "\n",
        "fig.tight_layout()"
      ],
      "metadata": {
        "colab": {
          "base_uri": "https://localhost:8080/",
          "height": 108
        },
        "id": "c7zGBSI-3QqT",
        "outputId": "d16efcd2-6a08-43c0-9198-e8dfa5f5c5ec"
      },
      "execution_count": null,
      "outputs": [
        {
          "output_type": "stream",
          "name": "stdout",
          "text": [
            "Sample candidate mitoses:\n"
          ]
        },
        {
          "output_type": "display_data",
          "data": {
            "text/plain": [
              "<Figure size 360x360 with 5 Axes>"
            ],
            "image/png": "[encoded data removed]"
          },
          "metadata": {
            "needs_background": "light"
          }
        }
      ]
    },
    {
      "cell_type": "code",
      "metadata": {
        "id": "hal1mKwnkaNf"
      },
      "source": [
        "# Combining normal and mitosis images\n",
        "combined_image_dataset = np.concatenate((normal_images_dataset, mitosis_images_dataset), axis = 0)"
      ],
      "execution_count": null,
      "outputs": []
    },
    {
      "cell_type": "code",
      "metadata": {
        "id": "tQJOd1Blpz3Q",
        "colab": {
          "base_uri": "https://localhost:8080/"
        },
        "outputId": "b67c68a5-2300-4b66-ef22-15ae3f2b400a"
      },
      "source": [
        "np.shape(combined_image_dataset)"
      ],
      "execution_count": null,
      "outputs": [
        {
          "output_type": "execute_result",
          "data": {
            "text/plain": [
              "(21184, 40, 40, 3)"
            ]
          },
          "metadata": {},
          "execution_count": 18
        }
      ]
    },
    {
      "cell_type": "code",
      "metadata": {
        "id": "oWX0St-DtLM_"
      },
      "source": [
        "# Assigning a label to each image\n",
        "    # 0 = Normal\n",
        "    # 1 = Mitosis\n",
        "normal_label = np.zeros(np.size(normal_images_dataset, axis = 0))\n",
        "mitosis_label = np.ones(np.size(mitosis_images_dataset, axis = 0))\n",
        "\n",
        "combined_label_dataset = np.concatenate((normal_label, mitosis_label), axis = 0)"
      ],
      "execution_count": null,
      "outputs": []
    },
    {
      "cell_type": "code",
      "metadata": {
        "id": "hQGY2uV6MJsz",
        "colab": {
          "base_uri": "https://localhost:8080/"
        },
        "outputId": "0c9131a5-3c16-4f0a-b5ff-2492dadd0763"
      },
      "source": [
        "combined_label_dataset"
      ],
      "execution_count": null,
      "outputs": [
        {
          "output_type": "execute_result",
          "data": {
            "text/plain": [
              "array([0., 0., 0., ..., 1., 1., 1.])"
            ]
          },
          "metadata": {},
          "execution_count": 20
        }
      ]
    },
    {
      "cell_type": "markdown",
      "metadata": {
        "id": "VU4AlA1BCvB5"
      },
      "source": [
        "# Creating Validation Dataset"
      ]
    },
    {
      "cell_type": "code",
      "metadata": {
        "id": "t6owHtXlC7AY"
      },
      "source": [
        "# Getting a list of images\n",
        "val_normal_images = glob.glob(\"/content/gdrive/MyDrive/Alireza's_copy_MITOS dataset/Alireza_NeuroEndocrine_Dataset/Test_ds_Normal_40x40/*\")\n",
        "\n",
        "# Combining all the images into one numpy array\n",
        "val_normal_images_dataset = [cv2.resize(cv2.imread(fname), (40,40)) for fname in val_normal_images]\n",
        "val_normal_images_dataset = np.array([HnE_Hematoxylin(cv2.cvtColor(image, cv2.COLOR_BGR2RGB)) for image in val_normal_images_dataset])\n"
      ],
      "execution_count": null,
      "outputs": []
    },
    {
      "cell_type": "code",
      "metadata": {
        "id": "ApLwZ1FfDxb9",
        "colab": {
          "base_uri": "https://localhost:8080/"
        },
        "outputId": "b6306b1b-d0b9-46c5-f53a-e1c856a5377d"
      },
      "source": [
        "np.shape(val_normal_images_dataset)"
      ],
      "execution_count": null,
      "outputs": [
        {
          "output_type": "execute_result",
          "data": {
            "text/plain": [
              "(1500, 40, 40, 3)"
            ]
          },
          "metadata": {},
          "execution_count": 22
        }
      ]
    },
    {
      "cell_type": "code",
      "metadata": {
        "id": "ld4E3B51AIDn",
        "colab": {
          "base_uri": "https://localhost:8080/",
          "height": 106
        },
        "outputId": "9fa68272-c708-4ccd-b6bd-84e8610afccb"
      },
      "source": [
        "# Display random images from the dataset\n",
        "print(\"Validation dataset, non-dividing cells:\")\n",
        "fig, axes = plt.subplots(1, 3, figsize=(3,3), sharex=True, sharey=True)\n",
        "ax = axes.ravel()\n",
        "\n",
        "ax[0].imshow(val_normal_images_dataset[0])\n",
        "ax[1].imshow(val_normal_images_dataset[10])\n",
        "ax[2].imshow(val_normal_images_dataset[-1])\n",
        "\n",
        "for a in ax.ravel():\n",
        "    a.axis('off')\n",
        "\n",
        "fig.tight_layout()"
      ],
      "execution_count": null,
      "outputs": [
        {
          "output_type": "stream",
          "name": "stdout",
          "text": [
            "Validation dataset, non-dividing cells:\n"
          ]
        },
        {
          "output_type": "display_data",
          "data": {
            "text/plain": [
              "<Figure size 216x216 with 3 Axes>"
            ],
            "image/png": "[encoded data removed]"
          },
          "metadata": {
            "needs_background": "light"
          }
        }
      ]
    },
    {
      "cell_type": "code",
      "metadata": {
        "id": "ocrFCY-zC69w"
      },
      "source": [
        "val_mitosis_images = glob.glob(\"/content/gdrive/MyDrive/Alireza's_copy_MITOS dataset/Alireza_NeuroEndocrine_Dataset/Test_ds_Mitosis_40x40/*\")\n",
        "\n",
        "\n",
        "# Combining all the images into one numpy array\n",
        "val_mitosis_images_dataset = [cv2.resize(cv2.imread(fname), (40,40)) for fname in val_mitosis_images]\n",
        "val_mitosis_images_dataset = np.array([HnE_Hematoxylin(cv2.cvtColor(image, cv2.COLOR_BGR2RGB)) for image in val_mitosis_images_dataset])\n"
      ],
      "execution_count": null,
      "outputs": []
    },
    {
      "cell_type": "code",
      "metadata": {
        "id": "8mtFYu-CC67Z",
        "colab": {
          "base_uri": "https://localhost:8080/"
        },
        "outputId": "b3eea71a-b9df-443b-da72-af95127885bf"
      },
      "source": [
        "np.shape(val_mitosis_images_dataset)"
      ],
      "execution_count": null,
      "outputs": [
        {
          "output_type": "execute_result",
          "data": {
            "text/plain": [
              "(274, 40, 40, 3)"
            ]
          },
          "metadata": {},
          "execution_count": 25
        }
      ]
    },
    {
      "cell_type": "code",
      "source": [
        "# Display random images from the dataset\n",
        "print(\"Validation dataset, candidate mitoses:\")\n",
        "fig, axes = plt.subplots(1, 3, figsize=(3,3), sharex=True, sharey=True)\n",
        "ax = axes.ravel()\n",
        "\n",
        "ax[0].imshow(val_mitosis_images_dataset[0])\n",
        "ax[1].imshow(val_mitosis_images_dataset[10])\n",
        "ax[2].imshow(val_mitosis_images_dataset[-1])\n",
        "\n",
        "for a in ax.ravel():\n",
        "    a.axis('off')\n",
        "\n",
        "fig.tight_layout()"
      ],
      "metadata": {
        "colab": {
          "base_uri": "https://localhost:8080/",
          "height": 106
        },
        "id": "9c9rVefGp9Vb",
        "outputId": "0943bc88-d748-43c6-9b7d-207cc633018f"
      },
      "execution_count": null,
      "outputs": [
        {
          "output_type": "stream",
          "name": "stdout",
          "text": [
            "Validation dataset, candidate mitoses:\n"
          ]
        },
        {
          "output_type": "display_data",
          "data": {
            "text/plain": [
              "<Figure size 216x216 with 3 Axes>"
            ],
            "image/png": "[encoded data removed]"
          },
          "metadata": {
            "needs_background": "light"
          }
        }
      ]
    },
    {
      "cell_type": "code",
      "metadata": {
        "id": "cCtWFyHpC64-"
      },
      "source": [
        "# Combining normal and mitosis validation images\n",
        "val_combined_image_dataset = np.concatenate((val_normal_images_dataset, val_mitosis_images_dataset), axis = 0).astype(np.uint16)"
      ],
      "execution_count": null,
      "outputs": []
    },
    {
      "cell_type": "code",
      "metadata": {
        "id": "DASZtmYqD0Rq"
      },
      "source": [
        "# Assigning a label to each image\n",
        "    # 0 = Normal\n",
        "    # 1 = Mitosis\n",
        "val_normal_label = np.zeros((np.size(val_normal_images_dataset, axis = 0)))\n",
        "val_mitosis_label = np.ones((np.size(val_mitosis_images_dataset, axis = 0)))\n",
        "\n",
        "val_combined_label_dataset = np.concatenate((val_normal_label, val_mitosis_label))"
      ],
      "execution_count": null,
      "outputs": []
    },
    {
      "cell_type": "code",
      "metadata": {
        "id": "tqY6vg3MD0Of",
        "colab": {
          "base_uri": "https://localhost:8080/"
        },
        "outputId": "1a2ca08e-5e66-4866-f7c4-1229fb695696"
      },
      "source": [
        "np.shape(val_combined_label_dataset)"
      ],
      "execution_count": null,
      "outputs": [
        {
          "output_type": "execute_result",
          "data": {
            "text/plain": [
              "(1774,)"
            ]
          },
          "metadata": {},
          "execution_count": 29
        }
      ]
    },
    {
      "cell_type": "code",
      "metadata": {
        "id": "P2pFqNVbCMxo",
        "colab": {
          "base_uri": "https://localhost:8080/"
        },
        "outputId": "c98f9e63-6f8f-4d98-ddbe-8dce45184621"
      },
      "source": [
        "SIZE = 40\n",
        "\n",
        "# from sklearn.model_selection import train_test_split\n",
        "# x_train, x_val, y_train, y_val = train_test_split(X, Y, test_size=0.15, random_state=42)\n",
        "\n",
        "x_train = combined_image_dataset\n",
        "y_train = combined_label_dataset\n",
        "\n",
        "x_val = val_combined_image_dataset\n",
        "y_val = val_combined_label_dataset \n",
        "\n",
        "\n",
        "\n",
        "###2 conv and pool layers. with some normalization and drops in between.\n",
        "INPUT_SHAPE = (SIZE, SIZE, 3)   \n",
        "\n",
        "\n",
        "model = Sequential()\n",
        "model.add(Conv2D(32, (3, 3), input_shape=INPUT_SHAPE))\n",
        "model.add(BatchNormalization())\n",
        "model.add(Activation('relu'))\n",
        "\n",
        "model.add(MaxPooling2D(pool_size=(2, 2)))\n",
        "\n",
        "model.add(Conv2D(64, (3, 3), kernel_initializer = 'he_uniform'))\n",
        "model.add(BatchNormalization())\n",
        "model.add(Activation('relu'))\n",
        "model.add(MaxPooling2D(pool_size=(2, 2)))\n",
        "\n",
        "model.add(Conv2D(128, (3, 3), kernel_initializer = 'he_uniform'))\n",
        "model.add(BatchNormalization())\n",
        "model.add(Activation('relu'))\n",
        "model.add(MaxPooling2D(pool_size=(2, 2)))\n",
        "\n",
        "model.add(Flatten())\n",
        "model.add(Dense(128))\n",
        "model.add(BatchNormalization())\n",
        "model.add(Activation('relu'))\n",
        "model.add(Dropout(0.2))\n",
        "\n",
        "model.add(Dense(1))\n",
        "model.add(Activation('sigmoid'))  \n",
        "\n",
        "\n",
        "\n",
        "model.compile(loss='binary_crossentropy',\n",
        "              optimizer='adam',             \n",
        "              metrics=['accuracy'])\n",
        "\n",
        "#print(model.summary())     \n",
        "\n",
        "##########################################################\n",
        "\n",
        "es = EarlyStopping(monitor='val_accuracy', mode='max', verbose=0, patience= 100, restore_best_weights= True)\n",
        "mc = ModelCheckpoint('content/Mitoses_Binary_classification_40x40_April_29th.h5', monitor='val_accuracy', mode='max', verbose=0, save_best_only=True)\n",
        "\n",
        "\n",
        "\n",
        "history = model.fit(x_train, \n",
        "                         y_train, \n",
        "                         batch_size = 32, \n",
        "                         verbose = 1, \n",
        "                         epochs = 300,      \n",
        "                         validation_data=(x_val,y_val),\n",
        "                         callbacks= [es, mc],\n",
        "                         shuffle = True\n",
        "                     )\n",
        "\n"
      ],
      "execution_count": null,
      "outputs": [
        {
          "output_type": "stream",
          "name": "stdout",
          "text": [
            "Epoch 1/300\n",
            "662/662 [==============================] - 4s 4ms/step - loss: 0.2919 - accuracy: 0.8821 - val_loss: 0.6276 - val_accuracy: 0.7875\n",
            "Epoch 2/300\n",
            "662/662 [==============================] - 3s 4ms/step - loss: 0.2121 - accuracy: 0.9189 - val_loss: 0.3707 - val_accuracy: 0.8405\n",
            "Epoch 3/300\n",
            "662/662 [==============================] - 3s 4ms/step - loss: 0.1713 - accuracy: 0.9347 - val_loss: 0.6520 - val_accuracy: 0.7525\n",
            "Epoch 4/300\n",
            "662/662 [==============================] - 3s 4ms/step - loss: 0.1467 - accuracy: 0.9447 - val_loss: 0.3970 - val_accuracy: 0.8737\n",
            "Epoch 5/300\n",
            "662/662 [==============================] - 3s 4ms/step - loss: 0.1245 - accuracy: 0.9535 - val_loss: 1.4665 - val_accuracy: 0.5242\n",
            "Epoch 6/300\n",
            "662/662 [==============================] - 3s 4ms/step - loss: 0.1116 - accuracy: 0.9581 - val_loss: 0.5489 - val_accuracy: 0.8236\n",
            "Epoch 7/300\n",
            "662/662 [==============================] - 3s 4ms/step - loss: 0.1014 - accuracy: 0.9620 - val_loss: 0.3560 - val_accuracy: 0.8940\n",
            "Epoch 8/300\n",
            "662/662 [==============================] - 3s 4ms/step - loss: 0.0867 - accuracy: 0.9660 - val_loss: 0.5816 - val_accuracy: 0.8315\n",
            "Epoch 9/300\n",
            "662/662 [==============================] - 3s 4ms/step - loss: 0.0769 - accuracy: 0.9715 - val_loss: 0.2802 - val_accuracy: 0.8878\n",
            "Epoch 10/300\n",
            "662/662 [==============================] - 3s 4ms/step - loss: 0.0724 - accuracy: 0.9724 - val_loss: 1.3478 - val_accuracy: 0.6928\n",
            "Epoch 11/300\n",
            "662/662 [==============================] - 3s 4ms/step - loss: 0.0638 - accuracy: 0.9762 - val_loss: 1.4820 - val_accuracy: 0.6522\n",
            "Epoch 12/300\n",
            "662/662 [==============================] - 3s 4ms/step - loss: 0.0573 - accuracy: 0.9787 - val_loss: 0.5757 - val_accuracy: 0.8247\n",
            "Epoch 13/300\n",
            "662/662 [==============================] - 3s 4ms/step - loss: 0.0558 - accuracy: 0.9781 - val_loss: 0.5889 - val_accuracy: 0.8151\n",
            "Epoch 14/300\n",
            "662/662 [==============================] - 3s 4ms/step - loss: 0.0459 - accuracy: 0.9832 - val_loss: 3.4825 - val_accuracy: 0.4617\n",
            "Epoch 15/300\n",
            "662/662 [==============================] - 3s 4ms/step - loss: 0.0459 - accuracy: 0.9829 - val_loss: 0.3710 - val_accuracy: 0.9188\n",
            "Epoch 16/300\n",
            "662/662 [==============================] - 3s 4ms/step - loss: 0.0449 - accuracy: 0.9827 - val_loss: 3.4049 - val_accuracy: 0.4087\n",
            "Epoch 17/300\n",
            "662/662 [==============================] - 3s 4ms/step - loss: 0.0350 - accuracy: 0.9877 - val_loss: 0.4702 - val_accuracy: 0.9121\n",
            "Epoch 18/300\n",
            "662/662 [==============================] - 3s 4ms/step - loss: 0.0369 - accuracy: 0.9867 - val_loss: 0.3925 - val_accuracy: 0.8895\n",
            "Epoch 19/300\n",
            "662/662 [==============================] - 3s 4ms/step - loss: 0.0362 - accuracy: 0.9863 - val_loss: 0.4182 - val_accuracy: 0.9121\n",
            "Epoch 20/300\n",
            "662/662 [==============================] - 3s 4ms/step - loss: 0.0295 - accuracy: 0.9893 - val_loss: 2.4500 - val_accuracy: 0.5259\n",
            "Epoch 21/300\n",
            "662/662 [==============================] - 3s 4ms/step - loss: 0.0330 - accuracy: 0.9884 - val_loss: 0.7159 - val_accuracy: 0.8191\n",
            "Epoch 22/300\n",
            "662/662 [==============================] - 3s 4ms/step - loss: 0.0332 - accuracy: 0.9876 - val_loss: 0.4602 - val_accuracy: 0.8940\n",
            "Epoch 23/300\n",
            "662/662 [==============================] - 3s 4ms/step - loss: 0.0252 - accuracy: 0.9910 - val_loss: 0.5442 - val_accuracy: 0.8664\n",
            "Epoch 24/300\n",
            "662/662 [==============================] - 3s 4ms/step - loss: 0.0251 - accuracy: 0.9905 - val_loss: 0.7937 - val_accuracy: 0.8478\n",
            "Epoch 25/300\n",
            "662/662 [==============================] - 3s 4ms/step - loss: 0.0297 - accuracy: 0.9890 - val_loss: 0.3937 - val_accuracy: 0.8878\n",
            "Epoch 26/300\n",
            "662/662 [==============================] - 3s 4ms/step - loss: 0.0223 - accuracy: 0.9916 - val_loss: 0.4949 - val_accuracy: 0.8974\n",
            "Epoch 27/300\n",
            "662/662 [==============================] - 3s 4ms/step - loss: 0.0224 - accuracy: 0.9926 - val_loss: 0.5227 - val_accuracy: 0.8822\n",
            "Epoch 28/300\n",
            "662/662 [==============================] - 3s 4ms/step - loss: 0.0212 - accuracy: 0.9922 - val_loss: 0.6370 - val_accuracy: 0.8574\n",
            "Epoch 29/300\n",
            "662/662 [==============================] - 3s 4ms/step - loss: 0.0224 - accuracy: 0.9927 - val_loss: 2.5986 - val_accuracy: 0.5970\n",
            "Epoch 30/300\n",
            "662/662 [==============================] - 3s 4ms/step - loss: 0.0263 - accuracy: 0.9907 - val_loss: 0.6713 - val_accuracy: 0.8427\n",
            "Epoch 31/300\n",
            "662/662 [==============================] - 3s 4ms/step - loss: 0.0216 - accuracy: 0.9926 - val_loss: 0.9457 - val_accuracy: 0.8444\n",
            "Epoch 32/300\n",
            "662/662 [==============================] - 3s 4ms/step - loss: 0.0152 - accuracy: 0.9946 - val_loss: 0.4927 - val_accuracy: 0.8974\n",
            "Epoch 33/300\n",
            "662/662 [==============================] - 3s 4ms/step - loss: 0.0183 - accuracy: 0.9938 - val_loss: 1.0106 - val_accuracy: 0.8157\n",
            "Epoch 34/300\n",
            "662/662 [==============================] - 3s 4ms/step - loss: 0.0162 - accuracy: 0.9944 - val_loss: 0.8444 - val_accuracy: 0.8179\n",
            "Epoch 35/300\n",
            "662/662 [==============================] - 3s 4ms/step - loss: 0.0233 - accuracy: 0.9922 - val_loss: 0.6621 - val_accuracy: 0.8873\n",
            "Epoch 36/300\n",
            "662/662 [==============================] - 3s 4ms/step - loss: 0.0133 - accuracy: 0.9953 - val_loss: 1.9159 - val_accuracy: 0.6753\n",
            "Epoch 37/300\n",
            "662/662 [==============================] - 3s 4ms/step - loss: 0.0187 - accuracy: 0.9938 - val_loss: 1.0777 - val_accuracy: 0.7554\n",
            "Epoch 38/300\n",
            "662/662 [==============================] - 3s 4ms/step - loss: 0.0192 - accuracy: 0.9932 - val_loss: 0.6657 - val_accuracy: 0.8501\n",
            "Epoch 39/300\n",
            "662/662 [==============================] - 3s 4ms/step - loss: 0.0204 - accuracy: 0.9922 - val_loss: 0.5809 - val_accuracy: 0.8805\n",
            "Epoch 40/300\n",
            "662/662 [==============================] - 3s 4ms/step - loss: 0.0154 - accuracy: 0.9953 - val_loss: 0.9835 - val_accuracy: 0.8191\n",
            "Epoch 41/300\n",
            "662/662 [==============================] - 3s 4ms/step - loss: 0.0135 - accuracy: 0.9956 - val_loss: 0.4710 - val_accuracy: 0.9166\n",
            "Epoch 42/300\n",
            "662/662 [==============================] - 3s 4ms/step - loss: 0.0124 - accuracy: 0.9956 - val_loss: 1.0461 - val_accuracy: 0.8044\n",
            "Epoch 43/300\n",
            "662/662 [==============================] - 3s 4ms/step - loss: 0.0152 - accuracy: 0.9947 - val_loss: 1.2286 - val_accuracy: 0.8134\n",
            "Epoch 44/300\n",
            "662/662 [==============================] - 3s 4ms/step - loss: 0.0180 - accuracy: 0.9939 - val_loss: 0.5801 - val_accuracy: 0.9059\n",
            "Epoch 45/300\n",
            "662/662 [==============================] - 3s 4ms/step - loss: 0.0121 - accuracy: 0.9958 - val_loss: 2.8795 - val_accuracy: 0.5958\n",
            "Epoch 46/300\n",
            "662/662 [==============================] - 3s 4ms/step - loss: 0.0167 - accuracy: 0.9942 - val_loss: 0.5380 - val_accuracy: 0.9025\n",
            "Epoch 47/300\n",
            "662/662 [==============================] - 3s 4ms/step - loss: 0.0138 - accuracy: 0.9953 - val_loss: 1.1450 - val_accuracy: 0.7909\n",
            "Epoch 48/300\n",
            "662/662 [==============================] - 3s 4ms/step - loss: 0.0123 - accuracy: 0.9952 - val_loss: 0.4981 - val_accuracy: 0.9053\n",
            "Epoch 49/300\n",
            "662/662 [==============================] - 3s 4ms/step - loss: 0.0122 - accuracy: 0.9961 - val_loss: 0.6753 - val_accuracy: 0.8833\n",
            "Epoch 50/300\n",
            "662/662 [==============================] - 3s 4ms/step - loss: 0.0118 - accuracy: 0.9959 - val_loss: 0.9494 - val_accuracy: 0.8579\n",
            "Epoch 51/300\n",
            "662/662 [==============================] - 3s 4ms/step - loss: 0.0180 - accuracy: 0.9937 - val_loss: 0.7071 - val_accuracy: 0.8563\n",
            "Epoch 52/300\n",
            "662/662 [==============================] - 3s 4ms/step - loss: 0.0100 - accuracy: 0.9963 - val_loss: 2.4511 - val_accuracy: 0.6894\n",
            "Epoch 53/300\n",
            "662/662 [==============================] - 3s 4ms/step - loss: 0.0129 - accuracy: 0.9957 - val_loss: 0.7472 - val_accuracy: 0.8754\n",
            "Epoch 54/300\n",
            "662/662 [==============================] - 3s 4ms/step - loss: 0.0100 - accuracy: 0.9964 - val_loss: 0.7899 - val_accuracy: 0.8754\n",
            "Epoch 55/300\n",
            "662/662 [==============================] - 3s 4ms/step - loss: 0.0115 - accuracy: 0.9958 - val_loss: 1.1172 - val_accuracy: 0.8236\n",
            "Epoch 56/300\n",
            "662/662 [==============================] - 3s 4ms/step - loss: 0.0099 - accuracy: 0.9960 - val_loss: 4.2859 - val_accuracy: 0.5163\n",
            "Epoch 57/300\n",
            "662/662 [==============================] - 3s 4ms/step - loss: 0.0128 - accuracy: 0.9961 - val_loss: 0.7165 - val_accuracy: 0.8918\n",
            "Epoch 58/300\n",
            "662/662 [==============================] - 3s 4ms/step - loss: 0.0121 - accuracy: 0.9956 - val_loss: 0.9915 - val_accuracy: 0.8236\n",
            "Epoch 59/300\n",
            "662/662 [==============================] - 3s 4ms/step - loss: 0.0123 - accuracy: 0.9961 - val_loss: 0.9710 - val_accuracy: 0.8822\n",
            "Epoch 60/300\n",
            "662/662 [==============================] - 3s 4ms/step - loss: 0.0113 - accuracy: 0.9960 - val_loss: 0.5054 - val_accuracy: 0.9070\n",
            "Epoch 61/300\n",
            "662/662 [==============================] - 3s 4ms/step - loss: 0.0102 - accuracy: 0.9967 - val_loss: 1.7695 - val_accuracy: 0.7311\n",
            "Epoch 62/300\n",
            "662/662 [==============================] - 3s 4ms/step - loss: 0.0091 - accuracy: 0.9971 - val_loss: 0.9500 - val_accuracy: 0.8625\n",
            "Epoch 63/300\n",
            "662/662 [==============================] - 3s 4ms/step - loss: 0.0109 - accuracy: 0.9966 - val_loss: 0.6822 - val_accuracy: 0.8732\n",
            "Epoch 64/300\n",
            "662/662 [==============================] - 3s 4ms/step - loss: 0.0117 - accuracy: 0.9959 - val_loss: 0.9629 - val_accuracy: 0.8315\n",
            "Epoch 65/300\n",
            "662/662 [==============================] - 3s 4ms/step - loss: 0.0113 - accuracy: 0.9960 - val_loss: 0.8281 - val_accuracy: 0.8760\n",
            "Epoch 66/300\n",
            "662/662 [==============================] - 3s 4ms/step - loss: 0.0067 - accuracy: 0.9980 - val_loss: 0.5178 - val_accuracy: 0.9149\n",
            "Epoch 67/300\n",
            "662/662 [==============================] - 3s 4ms/step - loss: 0.0103 - accuracy: 0.9963 - val_loss: 0.8003 - val_accuracy: 0.8602\n",
            "Epoch 68/300\n",
            "662/662 [==============================] - 3s 4ms/step - loss: 0.0104 - accuracy: 0.9967 - val_loss: 1.1475 - val_accuracy: 0.7892\n",
            "Epoch 69/300\n",
            "662/662 [==============================] - 3s 4ms/step - loss: 0.0090 - accuracy: 0.9973 - val_loss: 0.6173 - val_accuracy: 0.9014\n",
            "Epoch 70/300\n",
            "662/662 [==============================] - 3s 4ms/step - loss: 0.0097 - accuracy: 0.9968 - val_loss: 0.5440 - val_accuracy: 0.9335\n",
            "Epoch 71/300\n",
            "662/662 [==============================] - 3s 4ms/step - loss: 0.0083 - accuracy: 0.9973 - val_loss: 0.4779 - val_accuracy: 0.9149\n",
            "Epoch 72/300\n",
            "662/662 [==============================] - 3s 4ms/step - loss: 0.0087 - accuracy: 0.9969 - val_loss: 0.7867 - val_accuracy: 0.8613\n",
            "Epoch 73/300\n",
            "662/662 [==============================] - 3s 4ms/step - loss: 0.0056 - accuracy: 0.9983 - val_loss: 0.8084 - val_accuracy: 0.8715\n",
            "Epoch 74/300\n",
            "662/662 [==============================] - 3s 4ms/step - loss: 0.0106 - accuracy: 0.9966 - val_loss: 0.7246 - val_accuracy: 0.8720\n",
            "Epoch 75/300\n",
            "662/662 [==============================] - 3s 4ms/step - loss: 0.0078 - accuracy: 0.9973 - val_loss: 1.3447 - val_accuracy: 0.8016\n",
            "Epoch 76/300\n",
            "662/662 [==============================] - 3s 4ms/step - loss: 0.0078 - accuracy: 0.9975 - val_loss: 0.5131 - val_accuracy: 0.9092\n",
            "Epoch 77/300\n",
            "662/662 [==============================] - 3s 4ms/step - loss: 0.0096 - accuracy: 0.9967 - val_loss: 1.2221 - val_accuracy: 0.8585\n",
            "Epoch 78/300\n",
            "662/662 [==============================] - 3s 4ms/step - loss: 0.0097 - accuracy: 0.9970 - val_loss: 1.0723 - val_accuracy: 0.8658\n",
            "Epoch 79/300\n",
            "662/662 [==============================] - 3s 4ms/step - loss: 0.0095 - accuracy: 0.9966 - val_loss: 0.5235 - val_accuracy: 0.8963\n",
            "Epoch 80/300\n",
            "662/662 [==============================] - 3s 4ms/step - loss: 0.0074 - accuracy: 0.9976 - val_loss: 0.8102 - val_accuracy: 0.8670\n",
            "Epoch 81/300\n",
            "662/662 [==============================] - 3s 4ms/step - loss: 0.0086 - accuracy: 0.9974 - val_loss: 0.4129 - val_accuracy: 0.9402\n",
            "Epoch 82/300\n",
            "662/662 [==============================] - 3s 4ms/step - loss: 0.0091 - accuracy: 0.9967 - val_loss: 1.0716 - val_accuracy: 0.8833\n",
            "Epoch 83/300\n",
            "662/662 [==============================] - 3s 4ms/step - loss: 0.0064 - accuracy: 0.9981 - val_loss: 0.5948 - val_accuracy: 0.9256\n",
            "Epoch 84/300\n",
            "662/662 [==============================] - 3s 4ms/step - loss: 0.0085 - accuracy: 0.9973 - val_loss: 0.8031 - val_accuracy: 0.8675\n",
            "Epoch 85/300\n",
            "662/662 [==============================] - 3s 4ms/step - loss: 0.0052 - accuracy: 0.9983 - val_loss: 0.8480 - val_accuracy: 0.8771\n",
            "Epoch 86/300\n",
            "662/662 [==============================] - 3s 4ms/step - loss: 0.0114 - accuracy: 0.9965 - val_loss: 0.5437 - val_accuracy: 0.9109\n",
            "Epoch 87/300\n",
            "662/662 [==============================] - 3s 4ms/step - loss: 0.0095 - accuracy: 0.9967 - val_loss: 1.3554 - val_accuracy: 0.8202\n",
            "Epoch 88/300\n",
            "662/662 [==============================] - 3s 4ms/step - loss: 0.0062 - accuracy: 0.9980 - val_loss: 0.6465 - val_accuracy: 0.8929\n",
            "Epoch 89/300\n",
            "662/662 [==============================] - 3s 4ms/step - loss: 0.0073 - accuracy: 0.9979 - val_loss: 1.1407 - val_accuracy: 0.8489\n",
            "Epoch 90/300\n",
            "662/662 [==============================] - 3s 4ms/step - loss: 0.0085 - accuracy: 0.9974 - val_loss: 1.1183 - val_accuracy: 0.8224\n",
            "Epoch 91/300\n",
            "662/662 [==============================] - 3s 4ms/step - loss: 0.0094 - accuracy: 0.9969 - val_loss: 0.9797 - val_accuracy: 0.8963\n",
            "Epoch 92/300\n",
            "662/662 [==============================] - 3s 4ms/step - loss: 0.0051 - accuracy: 0.9985 - val_loss: 0.7735 - val_accuracy: 0.9064\n",
            "Epoch 93/300\n",
            "662/662 [==============================] - 3s 4ms/step - loss: 0.0063 - accuracy: 0.9975 - val_loss: 0.6743 - val_accuracy: 0.8844\n",
            "Epoch 94/300\n",
            "662/662 [==============================] - 3s 4ms/step - loss: 0.0093 - accuracy: 0.9972 - val_loss: 1.7093 - val_accuracy: 0.7988\n",
            "Epoch 95/300\n",
            "662/662 [==============================] - 3s 4ms/step - loss: 0.0068 - accuracy: 0.9977 - val_loss: 0.7669 - val_accuracy: 0.9019\n",
            "Epoch 96/300\n",
            "662/662 [==============================] - 3s 4ms/step - loss: 0.0098 - accuracy: 0.9972 - val_loss: 2.0649 - val_accuracy: 0.7007\n",
            "Epoch 97/300\n",
            "662/662 [==============================] - 3s 4ms/step - loss: 0.0057 - accuracy: 0.9982 - val_loss: 0.5766 - val_accuracy: 0.9126\n",
            "Epoch 98/300\n",
            "662/662 [==============================] - 3s 4ms/step - loss: 0.0079 - accuracy: 0.9975 - val_loss: 0.8514 - val_accuracy: 0.8901\n",
            "Epoch 99/300\n",
            "662/662 [==============================] - 3s 4ms/step - loss: 0.0078 - accuracy: 0.9977 - val_loss: 1.0982 - val_accuracy: 0.8382\n",
            "Epoch 100/300\n",
            "662/662 [==============================] - 3s 4ms/step - loss: 0.0062 - accuracy: 0.9982 - val_loss: 1.5820 - val_accuracy: 0.6832\n",
            "Epoch 101/300\n",
            "662/662 [==============================] - 3s 4ms/step - loss: 0.0068 - accuracy: 0.9978 - val_loss: 0.6751 - val_accuracy: 0.9216\n",
            "Epoch 102/300\n",
            "662/662 [==============================] - 3s 4ms/step - loss: 0.0055 - accuracy: 0.9982 - val_loss: 2.0160 - val_accuracy: 0.7238\n",
            "Epoch 103/300\n",
            "662/662 [==============================] - 3s 4ms/step - loss: 0.0093 - accuracy: 0.9974 - val_loss: 1.6906 - val_accuracy: 0.7497\n",
            "Epoch 104/300\n",
            "662/662 [==============================] - 3s 4ms/step - loss: 0.0058 - accuracy: 0.9978 - val_loss: 0.4526 - val_accuracy: 0.9154\n",
            "Epoch 105/300\n",
            "662/662 [==============================] - 3s 4ms/step - loss: 0.0066 - accuracy: 0.9977 - val_loss: 1.6727 - val_accuracy: 0.7818\n",
            "Epoch 106/300\n",
            "662/662 [==============================] - 3s 4ms/step - loss: 0.0067 - accuracy: 0.9978 - val_loss: 0.7163 - val_accuracy: 0.8709\n",
            "Epoch 107/300\n",
            "662/662 [==============================] - 3s 4ms/step - loss: 0.0060 - accuracy: 0.9978 - val_loss: 0.7854 - val_accuracy: 0.9059\n",
            "Epoch 108/300\n",
            "662/662 [==============================] - 3s 4ms/step - loss: 0.0090 - accuracy: 0.9970 - val_loss: 0.7099 - val_accuracy: 0.8641\n",
            "Epoch 109/300\n",
            "662/662 [==============================] - 3s 4ms/step - loss: 0.0060 - accuracy: 0.9981 - val_loss: 2.2634 - val_accuracy: 0.6871\n",
            "Epoch 110/300\n",
            "662/662 [==============================] - 3s 4ms/step - loss: 0.0046 - accuracy: 0.9985 - val_loss: 1.5527 - val_accuracy: 0.7807\n",
            "Epoch 111/300\n",
            "662/662 [==============================] - 3s 4ms/step - loss: 0.0074 - accuracy: 0.9975 - val_loss: 1.0914 - val_accuracy: 0.8495\n",
            "Epoch 112/300\n",
            "662/662 [==============================] - 3s 4ms/step - loss: 0.0028 - accuracy: 0.9990 - val_loss: 0.6994 - val_accuracy: 0.9154\n",
            "Epoch 113/300\n",
            "662/662 [==============================] - 3s 4ms/step - loss: 0.0068 - accuracy: 0.9980 - val_loss: 0.9205 - val_accuracy: 0.8816\n",
            "Epoch 114/300\n",
            "662/662 [==============================] - 3s 4ms/step - loss: 0.0087 - accuracy: 0.9973 - val_loss: 0.4678 - val_accuracy: 0.9171\n",
            "Epoch 115/300\n",
            "662/662 [==============================] - 3s 4ms/step - loss: 0.0062 - accuracy: 0.9977 - val_loss: 1.2777 - val_accuracy: 0.8224\n",
            "Epoch 116/300\n",
            "662/662 [==============================] - 3s 4ms/step - loss: 0.0071 - accuracy: 0.9979 - val_loss: 0.3776 - val_accuracy: 0.9262\n",
            "Epoch 117/300\n",
            "662/662 [==============================] - 3s 4ms/step - loss: 0.0056 - accuracy: 0.9984 - val_loss: 0.7398 - val_accuracy: 0.8957\n",
            "Epoch 118/300\n",
            "662/662 [==============================] - 3s 4ms/step - loss: 0.0086 - accuracy: 0.9975 - val_loss: 0.6465 - val_accuracy: 0.9014\n",
            "Epoch 119/300\n",
            "662/662 [==============================] - 3s 4ms/step - loss: 0.0049 - accuracy: 0.9985 - val_loss: 1.0629 - val_accuracy: 0.8422\n",
            "Epoch 120/300\n",
            "662/662 [==============================] - 3s 4ms/step - loss: 0.0066 - accuracy: 0.9978 - val_loss: 2.4760 - val_accuracy: 0.6922\n",
            "Epoch 121/300\n",
            "662/662 [==============================] - 3s 4ms/step - loss: 0.0040 - accuracy: 0.9988 - val_loss: 1.1695 - val_accuracy: 0.8478\n",
            "Epoch 122/300\n",
            "662/662 [==============================] - 3s 4ms/step - loss: 0.0046 - accuracy: 0.9987 - val_loss: 1.5088 - val_accuracy: 0.7971\n",
            "Epoch 123/300\n",
            "662/662 [==============================] - 3s 4ms/step - loss: 0.0042 - accuracy: 0.9986 - val_loss: 0.6696 - val_accuracy: 0.8940\n",
            "Epoch 124/300\n",
            "662/662 [==============================] - 3s 4ms/step - loss: 0.0053 - accuracy: 0.9985 - val_loss: 1.2853 - val_accuracy: 0.8078\n",
            "Epoch 125/300\n",
            "662/662 [==============================] - 3s 4ms/step - loss: 0.0063 - accuracy: 0.9977 - val_loss: 0.6416 - val_accuracy: 0.8828\n",
            "Epoch 126/300\n",
            "662/662 [==============================] - 3s 4ms/step - loss: 0.0058 - accuracy: 0.9979 - val_loss: 0.7032 - val_accuracy: 0.9036\n",
            "Epoch 127/300\n",
            "662/662 [==============================] - 3s 4ms/step - loss: 0.0060 - accuracy: 0.9982 - val_loss: 1.8316 - val_accuracy: 0.7401\n",
            "Epoch 128/300\n",
            "662/662 [==============================] - 3s 4ms/step - loss: 0.0076 - accuracy: 0.9980 - val_loss: 0.6539 - val_accuracy: 0.9104\n",
            "Epoch 129/300\n",
            "662/662 [==============================] - 3s 4ms/step - loss: 0.0062 - accuracy: 0.9979 - val_loss: 0.9517 - val_accuracy: 0.8833\n",
            "Epoch 130/300\n",
            "662/662 [==============================] - 3s 4ms/step - loss: 0.0046 - accuracy: 0.9985 - val_loss: 1.0218 - val_accuracy: 0.8422\n",
            "Epoch 131/300\n",
            "662/662 [==============================] - 3s 4ms/step - loss: 0.0103 - accuracy: 0.9966 - val_loss: 0.9227 - val_accuracy: 0.8596\n",
            "Epoch 132/300\n",
            "662/662 [==============================] - 3s 4ms/step - loss: 0.0066 - accuracy: 0.9981 - val_loss: 0.7264 - val_accuracy: 0.8912\n",
            "Epoch 133/300\n",
            "662/662 [==============================] - 3s 4ms/step - loss: 0.0043 - accuracy: 0.9986 - val_loss: 1.2308 - val_accuracy: 0.8557\n",
            "Epoch 134/300\n",
            "662/662 [==============================] - 3s 4ms/step - loss: 0.0040 - accuracy: 0.9986 - val_loss: 0.4416 - val_accuracy: 0.9216\n",
            "Epoch 135/300\n",
            "662/662 [==============================] - 3s 4ms/step - loss: 0.0086 - accuracy: 0.9973 - val_loss: 0.8851 - val_accuracy: 0.8664\n",
            "Epoch 136/300\n",
            "662/662 [==============================] - 3s 4ms/step - loss: 0.0055 - accuracy: 0.9983 - val_loss: 0.9917 - val_accuracy: 0.8529\n",
            "Epoch 137/300\n",
            "662/662 [==============================] - 3s 4ms/step - loss: 0.0040 - accuracy: 0.9990 - val_loss: 0.7624 - val_accuracy: 0.8946\n",
            "Epoch 138/300\n",
            "662/662 [==============================] - 3s 4ms/step - loss: 0.0071 - accuracy: 0.9979 - val_loss: 1.1024 - val_accuracy: 0.8365\n",
            "Epoch 139/300\n",
            "662/662 [==============================] - 3s 4ms/step - loss: 0.0043 - accuracy: 0.9985 - val_loss: 0.4913 - val_accuracy: 0.9211\n",
            "Epoch 140/300\n",
            "662/662 [==============================] - 3s 4ms/step - loss: 0.0021 - accuracy: 0.9992 - val_loss: 0.7420 - val_accuracy: 0.8980\n",
            "Epoch 141/300\n",
            "662/662 [==============================] - 3s 4ms/step - loss: 0.0049 - accuracy: 0.9984 - val_loss: 2.6025 - val_accuracy: 0.6674\n",
            "Epoch 142/300\n",
            "662/662 [==============================] - 3s 4ms/step - loss: 0.0060 - accuracy: 0.9979 - val_loss: 0.8853 - val_accuracy: 0.8805\n",
            "Epoch 143/300\n",
            "662/662 [==============================] - 3s 4ms/step - loss: 0.0037 - accuracy: 0.9987 - val_loss: 0.5448 - val_accuracy: 0.9290\n",
            "Epoch 144/300\n",
            "662/662 [==============================] - 3s 4ms/step - loss: 0.0037 - accuracy: 0.9987 - val_loss: 0.5142 - val_accuracy: 0.9070\n",
            "Epoch 145/300\n",
            "662/662 [==============================] - 3s 4ms/step - loss: 0.0048 - accuracy: 0.9985 - val_loss: 1.1126 - val_accuracy: 0.8461\n",
            "Epoch 146/300\n",
            "662/662 [==============================] - 3s 4ms/step - loss: 0.0029 - accuracy: 0.9990 - val_loss: 0.7544 - val_accuracy: 0.8968\n",
            "Epoch 147/300\n",
            "662/662 [==============================] - 3s 4ms/step - loss: 0.0072 - accuracy: 0.9977 - val_loss: 1.4382 - val_accuracy: 0.7926\n",
            "Epoch 148/300\n",
            "662/662 [==============================] - 3s 4ms/step - loss: 0.0039 - accuracy: 0.9986 - val_loss: 1.1133 - val_accuracy: 0.8517\n",
            "Epoch 149/300\n",
            "662/662 [==============================] - 3s 4ms/step - loss: 0.0024 - accuracy: 0.9992 - val_loss: 0.8956 - val_accuracy: 0.8867\n",
            "Epoch 150/300\n",
            "662/662 [==============================] - 3s 4ms/step - loss: 0.0053 - accuracy: 0.9983 - val_loss: 0.8234 - val_accuracy: 0.8873\n",
            "Epoch 151/300\n",
            "662/662 [==============================] - 3s 4ms/step - loss: 0.0070 - accuracy: 0.9981 - val_loss: 0.9361 - val_accuracy: 0.8630\n",
            "Epoch 152/300\n",
            "662/662 [==============================] - 3s 4ms/step - loss: 0.0033 - accuracy: 0.9991 - val_loss: 1.1793 - val_accuracy: 0.8416\n",
            "Epoch 153/300\n",
            "662/662 [==============================] - 3s 4ms/step - loss: 0.0019 - accuracy: 0.9993 - val_loss: 1.8407 - val_accuracy: 0.7835\n",
            "Epoch 154/300\n",
            "662/662 [==============================] - 3s 4ms/step - loss: 0.0055 - accuracy: 0.9986 - val_loss: 0.7063 - val_accuracy: 0.8963\n",
            "Epoch 155/300\n",
            "662/662 [==============================] - 3s 4ms/step - loss: 0.0062 - accuracy: 0.9983 - val_loss: 0.8116 - val_accuracy: 0.8766\n",
            "Epoch 156/300\n",
            "662/662 [==============================] - 3s 4ms/step - loss: 0.0028 - accuracy: 0.9989 - val_loss: 0.8917 - val_accuracy: 0.8777\n",
            "Epoch 157/300\n",
            "662/662 [==============================] - 3s 4ms/step - loss: 0.0061 - accuracy: 0.9983 - val_loss: 1.7594 - val_accuracy: 0.8145\n",
            "Epoch 158/300\n",
            "662/662 [==============================] - 3s 4ms/step - loss: 0.0021 - accuracy: 0.9993 - val_loss: 0.8255 - val_accuracy: 0.9081\n",
            "Epoch 159/300\n",
            "662/662 [==============================] - 3s 4ms/step - loss: 0.0026 - accuracy: 0.9991 - val_loss: 1.2137 - val_accuracy: 0.8174\n",
            "Epoch 160/300\n",
            "662/662 [==============================] - 3s 4ms/step - loss: 0.0056 - accuracy: 0.9984 - val_loss: 0.7735 - val_accuracy: 0.8777\n",
            "Epoch 161/300\n",
            "662/662 [==============================] - 3s 4ms/step - loss: 0.0105 - accuracy: 0.9970 - val_loss: 0.8257 - val_accuracy: 0.8636\n",
            "Epoch 162/300\n",
            "662/662 [==============================] - 3s 4ms/step - loss: 0.0028 - accuracy: 0.9989 - val_loss: 1.1284 - val_accuracy: 0.8726\n",
            "Epoch 163/300\n",
            "662/662 [==============================] - 3s 4ms/step - loss: 0.0020 - accuracy: 0.9993 - val_loss: 0.5318 - val_accuracy: 0.9183\n",
            "Epoch 164/300\n",
            "662/662 [==============================] - 3s 4ms/step - loss: 0.0065 - accuracy: 0.9977 - val_loss: 1.0865 - val_accuracy: 0.8760\n",
            "Epoch 165/300\n",
            "662/662 [==============================] - 3s 4ms/step - loss: 0.0078 - accuracy: 0.9976 - val_loss: 0.8165 - val_accuracy: 0.9002\n",
            "Epoch 166/300\n",
            "662/662 [==============================] - 3s 4ms/step - loss: 0.0032 - accuracy: 0.9991 - val_loss: 1.2597 - val_accuracy: 0.8298\n",
            "Epoch 167/300\n",
            "662/662 [==============================] - 3s 4ms/step - loss: 0.0051 - accuracy: 0.9987 - val_loss: 1.7397 - val_accuracy: 0.7384\n",
            "Epoch 168/300\n",
            "662/662 [==============================] - 3s 4ms/step - loss: 0.0044 - accuracy: 0.9988 - val_loss: 0.9988 - val_accuracy: 0.8782\n",
            "Epoch 169/300\n",
            "662/662 [==============================] - 3s 4ms/step - loss: 0.0035 - accuracy: 0.9987 - val_loss: 0.8800 - val_accuracy: 0.8946\n",
            "Epoch 170/300\n",
            "662/662 [==============================] - 3s 4ms/step - loss: 0.0044 - accuracy: 0.9987 - val_loss: 1.2939 - val_accuracy: 0.8596\n",
            "Epoch 171/300\n",
            "662/662 [==============================] - 3s 4ms/step - loss: 0.0043 - accuracy: 0.9985 - val_loss: 0.9115 - val_accuracy: 0.8692\n",
            "Epoch 172/300\n",
            "662/662 [==============================] - 3s 4ms/step - loss: 0.0110 - accuracy: 0.9970 - val_loss: 0.8073 - val_accuracy: 0.8771\n",
            "Epoch 173/300\n",
            "662/662 [==============================] - 3s 4ms/step - loss: 0.0052 - accuracy: 0.9982 - val_loss: 1.1138 - val_accuracy: 0.8596\n",
            "Epoch 174/300\n",
            "662/662 [==============================] - 3s 4ms/step - loss: 0.0037 - accuracy: 0.9989 - val_loss: 0.7691 - val_accuracy: 0.9076\n",
            "Epoch 175/300\n",
            "662/662 [==============================] - 3s 4ms/step - loss: 0.0018 - accuracy: 0.9994 - val_loss: 1.0646 - val_accuracy: 0.8641\n",
            "Epoch 176/300\n",
            "662/662 [==============================] - 3s 4ms/step - loss: 0.0047 - accuracy: 0.9988 - val_loss: 0.8532 - val_accuracy: 0.8918\n",
            "Epoch 177/300\n",
            "662/662 [==============================] - 3s 4ms/step - loss: 0.0037 - accuracy: 0.9987 - val_loss: 1.3345 - val_accuracy: 0.8241\n",
            "Epoch 178/300\n",
            "662/662 [==============================] - 3s 4ms/step - loss: 0.0072 - accuracy: 0.9982 - val_loss: 0.9526 - val_accuracy: 0.8529\n",
            "Epoch 179/300\n",
            "662/662 [==============================] - 3s 4ms/step - loss: 0.0013 - accuracy: 0.9997 - val_loss: 0.7990 - val_accuracy: 0.8991\n",
            "Epoch 180/300\n",
            "662/662 [==============================] - 3s 4ms/step - loss: 0.0028 - accuracy: 0.9990 - val_loss: 1.4138 - val_accuracy: 0.7661\n",
            "Epoch 181/300\n",
            "662/662 [==============================] - 3s 4ms/step - loss: 0.0067 - accuracy: 0.9976 - val_loss: 0.7927 - val_accuracy: 0.8963\n"
          ]
        }
      ]
    },
    {
      "cell_type": "code",
      "metadata": {
        "id": "ATgjnTr8AhMJ",
        "colab": {
          "base_uri": "https://localhost:8080/",
          "height": 573
        },
        "outputId": "5c48b9ea-0f0b-4a64-a5a9-a152b61c02a6"
      },
      "source": [
        "#model.save('/content/gdrive/MyDrive/Colab Notebooks/saved_models/simple_Mitoses_Binary_classification_Sept_22th.h5')  \n",
        "\n",
        "\n",
        "#plot the training and validation accuracy and loss at each epoch\n",
        "loss = history.history['loss']\n",
        "val_loss = history.history['val_loss']\n",
        "epochs = range(1, len(loss) + 1)\n",
        "plt.plot(epochs, loss, 'y', label='Training loss')\n",
        "plt.plot(epochs, val_loss, 'r', label='Validation loss')\n",
        "plt.title('Training and validation loss')\n",
        "plt.xlabel('Epochs')\n",
        "plt.ylabel('Loss')\n",
        "plt.legend()\n",
        "plt.show()\n",
        "\n",
        "\n",
        "acc = history.history['accuracy']\n",
        "val_acc = history.history['val_accuracy']\n",
        "plt.plot(epochs, acc, 'y', label='Training acc')\n",
        "plt.plot(epochs, val_acc, 'r', label='Validation acc')\n",
        "plt.title('Training and validation accuracy')\n",
        "plt.xlabel('Epochs')\n",
        "plt.ylabel('Accuracy')\n",
        "plt.legend()\n",
        "plt.show()\n"
      ],
      "execution_count": null,
      "outputs": [
        {
          "output_type": "display_data",
          "data": {
            "text/plain": [
              "<Figure size 432x288 with 1 Axes>"
            ],
            "image/png": "[encoded data removed]"
          },
          "metadata": {
            "needs_background": "light"
          }
        },
        {
          "output_type": "display_data",
          "data": {
            "text/plain": [
              "<Figure size 432x288 with 1 Axes>"
            ],
            "image/png": "[encoded data removed]"
          },
          "metadata": {
            "needs_background": "light"
          }
        }
      ]
    },
    {
      "cell_type": "code",
      "metadata": {
        "id": "cdxiCENlAhJg",
        "colab": {
          "base_uri": "https://localhost:8080/",
          "height": 651
        },
        "outputId": "3d5b2214-bd43-4c08-9a12-fb7b5789b3d8"
      },
      "source": [
        "n = 10 \n",
        "img = (x_val[n]).astype(np.uint16)\n",
        "img = HnE_Hematoxylin(cv2.cvtColor(img*255, cv2.COLOR_BGR2RGB))\n",
        "plt.figure(figsize=(3,3))\n",
        "plt.imshow(img)\n",
        "plt.show()\n",
        "\n",
        "\n",
        "input_img = np.expand_dims(img, axis=0) #Expand dims so the input is (num images, x, y, c)\n",
        "print(\"The prediction for this image is: \", model.predict(input_img))\n",
        "print(\"The actual label for this image is: \", y_val[n])\n",
        "\n",
        "################################################################\n",
        "\n",
        "_, acc = model.evaluate(x_val, y_val)\n",
        "print(\"Accuracy = \", (acc * 100.0), \"%\")\n",
        "\n",
        "\n",
        "\n",
        "##############################\n",
        "mythreshold = 0.004\n",
        "##############################\n",
        "\n",
        "\n",
        "from sklearn.metrics import confusion_matrix\n",
        "\n",
        "y_pred = (model.predict(x_val)>= mythreshold).astype(int)\n",
        "cm = confusion_matrix(y_val, y_pred)  \n",
        "print(cm)\n",
        "\n",
        "\n",
        "\n",
        "#ROC\n",
        "from sklearn.metrics import roc_curve\n",
        "y_preds = model.predict(x_val).ravel()\n",
        "\n",
        "fpr, tpr, thresholds = roc_curve(y_val, y_preds)\n",
        "\n",
        "plt.figure(1)\n",
        "plt.plot([0, 1], [0, 1], 'y--')\n",
        "plt.plot(fpr, tpr, marker='.')\n",
        "plt.xlabel('False positive rate')\n",
        "plt.ylabel('True positive rate')\n",
        "plt.title('ROC curve')\n",
        "plt.show()\n",
        "\n",
        "\n",
        "\n",
        "i = np.arange(len(tpr)) \n",
        "roc = pd.DataFrame({'tf' : pd.Series(tpr-(1-fpr), index=i), 'thresholds' : pd.Series(thresholds, index=i)})\n",
        "ideal_roc_thresh = roc.iloc[(roc.tf-0).abs().argsort()[:1]]  #Locate the point where the value is close to 0\n",
        "print(\"Ideal threshold is: \", ideal_roc_thresh['thresholds']) \n",
        "\n",
        "\n",
        "from sklearn.metrics import auc\n",
        "auc_value = auc(fpr, tpr)\n",
        "print(\"Area under curve, AUC = \", auc_value)"
      ],
      "execution_count": null,
      "outputs": [
        {
          "output_type": "display_data",
          "data": {
            "text/plain": [
              "<Figure size 216x216 with 1 Axes>"
            ],
            "image/png": "[encoded data removed]"
          },
          "metadata": {
            "needs_background": "light"
          }
        },
        {
          "output_type": "stream",
          "name": "stdout",
          "text": [
            "The prediction for this image is:  [[3.042257e-05]]\n",
            "The actual label for this image is:  0.0\n",
            "56/56 [==============================] - 0s 3ms/step - loss: 0.4129 - accuracy: 0.9402\n",
            "Accuracy =  94.02480125427246 %\n",
            "[[1317  183]\n",
            " [  32  242]]\n"
          ]
        },
        {
          "output_type": "display_data",
          "data": {
            "text/plain": [
              "<Figure size 432x288 with 1 Axes>"
            ],
            "image/png": "[encoded data removed]"
          },
          "metadata": {
            "needs_background": "light"
          }
        },
        {
          "output_type": "stream",
          "name": "stdout",
          "text": [
            "Ideal threshold is:  96    0.004204\n",
            "Name: thresholds, dtype: float32\n",
            "Area under curve, AUC =  0.9544330900243309\n"
          ]
        }
      ]
    }
  ]
}